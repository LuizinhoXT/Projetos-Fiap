{
 "cells": [
  {
   "cell_type": "markdown",
   "id": "2a3feaab",
   "metadata": {},
   "source": [
    "# Normalização de Dados\n",
    "\n",
    "- Nesse Script os dados serão normalizados e re-escritos em uma zona do datalake chamada Trusted;\n",
    "- A normalização deve ser feita para todos os arquivos contidos;"
   ]
  },
  {
   "cell_type": "code",
   "execution_count": 2,
   "id": "4767ee83",
   "metadata": {},
   "outputs": [],
   "source": [
    "import pandas as pd"
   ]
  },
  {
   "cell_type": "code",
   "execution_count": null,
   "id": "bf2c945a",
   "metadata": {},
   "outputs": [],
   "source": [
    "var_path =  'C:/Users/luizf/OneDrive/Documentos/temp/'\n",
    "\n",
    "df_items = pd.read_csv(var_path + 'olist_order_items_dataset.csv')\n",
    "df_reviews = pd.read_csv(var_path + 'olist_order_reviews_dataset.csv')\n",
    "df_orders = pd.read_csv(var_path + 'olist_orders_dataset.csv')\n",
    "df_products = pd.read_csv(var_path + 'olist_products_dataset.csv')\n",
    "df_geolocation = pd.read_csv(var_path + 'olist_geolocation_dataset.csv')\n",
    "df_sellers = pd.read_csv(var_path + 'olist_sellers_dataset.csv')\n",
    "df_payments = pd.read_csv(var_path + 'olist_order_payments_dataset.csv')\n",
    "df_customers = pd.read_csv(var_path + 'olist_customers_dataset.csv')\n",
    "df_category = pd.read_csv(var_path + 'product_category_name_translation.csv')"
   ]
  },
  {
   "cell_type": "markdown",
   "id": "99957d2e",
   "metadata": {},
   "source": [
    "- Converter todos os tipos de data em timestamp"
   ]
  },
  {
   "cell_type": "markdown",
   "id": "14f6e54e",
   "metadata": {},
   "source": [
    "### Items"
   ]
  },
  {
   "cell_type": "code",
   "execution_count": 4,
   "id": "4482d01f",
   "metadata": {},
   "outputs": [
    {
     "data": {
      "application/vnd.microsoft.datawrangler.viewer.v0+json": {
       "columns": [
        {
         "name": "index",
         "rawType": "int64",
         "type": "integer"
        },
        {
         "name": "order_id",
         "rawType": "object",
         "type": "string"
        },
        {
         "name": "order_item_id",
         "rawType": "int64",
         "type": "integer"
        },
        {
         "name": "product_id",
         "rawType": "object",
         "type": "string"
        },
        {
         "name": "seller_id",
         "rawType": "object",
         "type": "string"
        },
        {
         "name": "shipping_limit_date",
         "rawType": "object",
         "type": "string"
        },
        {
         "name": "price",
         "rawType": "float64",
         "type": "float"
        },
        {
         "name": "freight_value",
         "rawType": "float64",
         "type": "float"
        }
       ],
       "conversionMethod": "pd.DataFrame",
       "ref": "28b08d2a-9666-4710-b5ec-6654127d01f0",
       "rows": [
        [
         "0",
         "00010242fe8c5a6d1ba2dd792cb16214",
         "1",
         "4244733e06e7ecb4970a6e2683c13e61",
         "48436dade18ac8b2bce089ec2a041202",
         "2017-09-19 09:45:35",
         "58.9",
         "13.29"
        ],
        [
         "1",
         "00018f77f2f0320c557190d7a144bdd3",
         "1",
         "e5f2d52b802189ee658865ca93d83a8f",
         "dd7ddc04e1b6c2c614352b383efe2d36",
         "2017-05-03 11:05:13",
         "239.9",
         "19.93"
        ],
        [
         "2",
         "000229ec398224ef6ca0657da4fc703e",
         "1",
         "c777355d18b72b67abbeef9df44fd0fd",
         "5b51032eddd242adc84c38acab88f23d",
         "2018-01-18 14:48:30",
         "199.0",
         "17.87"
        ],
        [
         "3",
         "00024acbcdf0a6daa1e931b038114c75",
         "1",
         "7634da152a4610f1595efa32f14722fc",
         "9d7a1d34a5052409006425275ba1c2b4",
         "2018-08-15 10:10:18",
         "12.99",
         "12.79"
        ],
        [
         "4",
         "00042b26cf59d7ce69dfabb4e55b4fd9",
         "1",
         "ac6c3623068f30de03045865e4e10089",
         "df560393f3a51e74553ab94004ba5c87",
         "2017-02-13 13:57:51",
         "199.9",
         "18.14"
        ]
       ],
       "shape": {
        "columns": 7,
        "rows": 5
       }
      },
      "text/html": [
       "<div>\n",
       "<style scoped>\n",
       "    .dataframe tbody tr th:only-of-type {\n",
       "        vertical-align: middle;\n",
       "    }\n",
       "\n",
       "    .dataframe tbody tr th {\n",
       "        vertical-align: top;\n",
       "    }\n",
       "\n",
       "    .dataframe thead th {\n",
       "        text-align: right;\n",
       "    }\n",
       "</style>\n",
       "<table border=\"1\" class=\"dataframe\">\n",
       "  <thead>\n",
       "    <tr style=\"text-align: right;\">\n",
       "      <th></th>\n",
       "      <th>order_id</th>\n",
       "      <th>order_item_id</th>\n",
       "      <th>product_id</th>\n",
       "      <th>seller_id</th>\n",
       "      <th>shipping_limit_date</th>\n",
       "      <th>price</th>\n",
       "      <th>freight_value</th>\n",
       "    </tr>\n",
       "  </thead>\n",
       "  <tbody>\n",
       "    <tr>\n",
       "      <th>0</th>\n",
       "      <td>00010242fe8c5a6d1ba2dd792cb16214</td>\n",
       "      <td>1</td>\n",
       "      <td>4244733e06e7ecb4970a6e2683c13e61</td>\n",
       "      <td>48436dade18ac8b2bce089ec2a041202</td>\n",
       "      <td>2017-09-19 09:45:35</td>\n",
       "      <td>58.90</td>\n",
       "      <td>13.29</td>\n",
       "    </tr>\n",
       "    <tr>\n",
       "      <th>1</th>\n",
       "      <td>00018f77f2f0320c557190d7a144bdd3</td>\n",
       "      <td>1</td>\n",
       "      <td>e5f2d52b802189ee658865ca93d83a8f</td>\n",
       "      <td>dd7ddc04e1b6c2c614352b383efe2d36</td>\n",
       "      <td>2017-05-03 11:05:13</td>\n",
       "      <td>239.90</td>\n",
       "      <td>19.93</td>\n",
       "    </tr>\n",
       "    <tr>\n",
       "      <th>2</th>\n",
       "      <td>000229ec398224ef6ca0657da4fc703e</td>\n",
       "      <td>1</td>\n",
       "      <td>c777355d18b72b67abbeef9df44fd0fd</td>\n",
       "      <td>5b51032eddd242adc84c38acab88f23d</td>\n",
       "      <td>2018-01-18 14:48:30</td>\n",
       "      <td>199.00</td>\n",
       "      <td>17.87</td>\n",
       "    </tr>\n",
       "    <tr>\n",
       "      <th>3</th>\n",
       "      <td>00024acbcdf0a6daa1e931b038114c75</td>\n",
       "      <td>1</td>\n",
       "      <td>7634da152a4610f1595efa32f14722fc</td>\n",
       "      <td>9d7a1d34a5052409006425275ba1c2b4</td>\n",
       "      <td>2018-08-15 10:10:18</td>\n",
       "      <td>12.99</td>\n",
       "      <td>12.79</td>\n",
       "    </tr>\n",
       "    <tr>\n",
       "      <th>4</th>\n",
       "      <td>00042b26cf59d7ce69dfabb4e55b4fd9</td>\n",
       "      <td>1</td>\n",
       "      <td>ac6c3623068f30de03045865e4e10089</td>\n",
       "      <td>df560393f3a51e74553ab94004ba5c87</td>\n",
       "      <td>2017-02-13 13:57:51</td>\n",
       "      <td>199.90</td>\n",
       "      <td>18.14</td>\n",
       "    </tr>\n",
       "  </tbody>\n",
       "</table>\n",
       "</div>"
      ],
      "text/plain": [
       "                           order_id  order_item_id  \\\n",
       "0  00010242fe8c5a6d1ba2dd792cb16214              1   \n",
       "1  00018f77f2f0320c557190d7a144bdd3              1   \n",
       "2  000229ec398224ef6ca0657da4fc703e              1   \n",
       "3  00024acbcdf0a6daa1e931b038114c75              1   \n",
       "4  00042b26cf59d7ce69dfabb4e55b4fd9              1   \n",
       "\n",
       "                         product_id                         seller_id  \\\n",
       "0  4244733e06e7ecb4970a6e2683c13e61  48436dade18ac8b2bce089ec2a041202   \n",
       "1  e5f2d52b802189ee658865ca93d83a8f  dd7ddc04e1b6c2c614352b383efe2d36   \n",
       "2  c777355d18b72b67abbeef9df44fd0fd  5b51032eddd242adc84c38acab88f23d   \n",
       "3  7634da152a4610f1595efa32f14722fc  9d7a1d34a5052409006425275ba1c2b4   \n",
       "4  ac6c3623068f30de03045865e4e10089  df560393f3a51e74553ab94004ba5c87   \n",
       "\n",
       "   shipping_limit_date   price  freight_value  \n",
       "0  2017-09-19 09:45:35   58.90          13.29  \n",
       "1  2017-05-03 11:05:13  239.90          19.93  \n",
       "2  2018-01-18 14:48:30  199.00          17.87  \n",
       "3  2018-08-15 10:10:18   12.99          12.79  \n",
       "4  2017-02-13 13:57:51  199.90          18.14  "
      ]
     },
     "execution_count": 4,
     "metadata": {},
     "output_type": "execute_result"
    }
   ],
   "source": [
    "df_items.head(5) "
   ]
  },
  {
   "cell_type": "code",
   "execution_count": 5,
   "id": "79aefd2e",
   "metadata": {},
   "outputs": [],
   "source": [
    "test = df_items.head(5)"
   ]
  },
  {
   "cell_type": "code",
   "execution_count": 45,
   "id": "493ad7b6",
   "metadata": {},
   "outputs": [
    {
     "data": {
      "text/plain": [
       "order_id                       object\n",
       "order_item_id                   int64\n",
       "product_id                     object\n",
       "seller_id                      object\n",
       "shipping_limit_date    datetime64[ns]\n",
       "price                         float64\n",
       "freight_value                 float64\n",
       "dtype: object"
      ]
     },
     "execution_count": 45,
     "metadata": {},
     "output_type": "execute_result"
    }
   ],
   "source": [
    "df_items.dtypes"
   ]
  },
  {
   "cell_type": "code",
   "execution_count": 7,
   "id": "57f10a65",
   "metadata": {},
   "outputs": [],
   "source": [
    "df_items[\"shipping_limit_date\"] = pd.to_datetime(df_items[\"shipping_limit_date\"]) "
   ]
  },
  {
   "cell_type": "markdown",
   "id": "c45c128f",
   "metadata": {},
   "source": [
    "### Reviews"
   ]
  },
  {
   "cell_type": "code",
   "execution_count": 46,
   "id": "818b258e",
   "metadata": {},
   "outputs": [
    {
     "data": {
      "text/plain": [
       "review_id                          object\n",
       "order_id                           object\n",
       "review_score                        int64\n",
       "review_comment_title               object\n",
       "review_comment_message             object\n",
       "review_creation_date       datetime64[ns]\n",
       "review_answer_timestamp    datetime64[ns]\n",
       "review_score_classific             object\n",
       "sentimento                         object\n",
       "dtype: object"
      ]
     },
     "execution_count": 46,
     "metadata": {},
     "output_type": "execute_result"
    }
   ],
   "source": [
    "df_reviews.dtypes"
   ]
  },
  {
   "cell_type": "code",
   "execution_count": 15,
   "id": "c2c02ebb",
   "metadata": {},
   "outputs": [],
   "source": [
    "# Tratando casos\n",
    "trocas = {\n",
    "    1 : \"Péssimo\",\n",
    "    2 : \"Abixo da média\",\n",
    "    3 : \"Na média\",\n",
    "    4 : \"Acima da média\",\n",
    "    5 : \"Ótimo\"\n",
    "}\n",
    "\n",
    "# Realizando a troca dos campos\n",
    "df_reviews['review_score_classific'] = df_reviews['review_score'].map(trocas)"
   ]
  },
  {
   "cell_type": "code",
   "execution_count": 16,
   "id": "91f3a2ef",
   "metadata": {},
   "outputs": [],
   "source": [
    "# Tratando casos\n",
    "trocas = {\n",
    "    1 : \"negativo\",\n",
    "    2 : \"negativo\",\n",
    "    3 : \"neutro\",\n",
    "    4 : \"positivo\",\n",
    "    5 : \"positivo\"\n",
    "}\n",
    "\n",
    "# Realizando a troca dos campos\n",
    "df_reviews['sentimento'] = df_reviews['review_score'].map(trocas)"
   ]
  },
  {
   "cell_type": "code",
   "execution_count": 17,
   "id": "16a475ea",
   "metadata": {},
   "outputs": [],
   "source": [
    "df_reviews[\"review_creation_date\"] = pd.to_datetime(df_reviews[\"review_creation_date\"]) \n",
    "df_reviews[\"review_answer_timestamp\"] = pd.to_datetime(df_reviews[\"review_answer_timestamp\"]) "
   ]
  },
  {
   "cell_type": "code",
   "execution_count": 19,
   "id": "2da8edad",
   "metadata": {},
   "outputs": [],
   "source": [
    "df_ava_not_null_and_not_neutral = df_reviews[(df_reviews['sentimento'].isin(['positivo','negativo','neutro'])) & (~(df_reviews['review_comment_message'].isnull())) ]"
   ]
  },
  {
   "cell_type": "code",
   "execution_count": 20,
   "id": "6a0b29ff",
   "metadata": {},
   "outputs": [
    {
     "data": {
      "application/vnd.microsoft.datawrangler.viewer.v0+json": {
       "columns": [
        {
         "name": "index",
         "rawType": "int64",
         "type": "integer"
        },
        {
         "name": "review_id",
         "rawType": "object",
         "type": "string"
        },
        {
         "name": "order_id",
         "rawType": "object",
         "type": "string"
        },
        {
         "name": "review_score",
         "rawType": "int64",
         "type": "integer"
        },
        {
         "name": "review_comment_title",
         "rawType": "object",
         "type": "unknown"
        },
        {
         "name": "review_comment_message",
         "rawType": "object",
         "type": "string"
        },
        {
         "name": "review_creation_date",
         "rawType": "datetime64[ns]",
         "type": "datetime"
        },
        {
         "name": "review_answer_timestamp",
         "rawType": "datetime64[ns]",
         "type": "datetime"
        },
        {
         "name": "review_score_classific",
         "rawType": "object",
         "type": "string"
        },
        {
         "name": "sentimento",
         "rawType": "object",
         "type": "string"
        }
       ],
       "conversionMethod": "pd.DataFrame",
       "ref": "9616da44-ceb4-4cb6-aced-617b8be41a7f",
       "rows": [
        [
         "3",
         "e64fb393e7b32834bb789ff8bb30750e",
         "658677c97b385a9be170737859d3511b",
         "5",
         null,
         "Recebi bem antes do prazo estipulado.",
         "2017-04-21 00:00:00",
         "2017-04-21 22:02:06",
         "Ótimo",
         "positivo"
        ],
        [
         "4",
         "f7c4243c7fe1938f181bec41a392bdeb",
         "8e6bfb81e283fa7e4f11123a3fb894f1",
         "5",
         null,
         "Parabéns lojas lannister adorei comprar pela Internet seguro e prático Parabéns a todos feliz Páscoa",
         "2018-03-01 00:00:00",
         "2018-03-02 10:26:53",
         "Ótimo",
         "positivo"
        ],
        [
         "9",
         "8670d52e15e00043ae7de4c01cc2fe06",
         "b9bf720beb4ab3728760088589c62129",
         "4",
         "recomendo",
         "aparelho eficiente. no site a marca do aparelho esta impresso como 3desinfector e ao chegar esta com outro nome...atualizar com a marca correta uma vez que é o mesmo aparelho",
         "2018-05-22 00:00:00",
         "2018-05-23 16:45:47",
         "Acima da média",
         "positivo"
        ],
        [
         "12",
         "4b49719c8a200003f700d3d986ea1a19",
         "9d6f15f95d01e79bd1349cc208361f09",
         "4",
         null,
         "Mas um pouco ,travando...pelo valor ta Boa.\r\n",
         "2018-02-16 00:00:00",
         "2018-02-20 10:52:22",
         "Acima da média",
         "positivo"
        ],
        [
         "15",
         "3948b09f7c818e2d86c9a546758b2335",
         "e51478e7e277a83743b6f9991dbfa3fb",
         "5",
         "Super recomendo",
         "Vendedor confiável, produto ok e entrega antes do prazo.",
         "2018-05-23 00:00:00",
         "2018-05-24 03:00:01",
         "Ótimo",
         "positivo"
        ],
        [
         "16",
         "9314d6f9799f5bfba510cc7bcd468c01",
         "0dacf04c5ad59fd5a0cc1faa07c34e39",
         "2",
         null,
         "GOSTARIA DE SABER O QUE HOUVE, SEMPRE RECEBI E ESSA COMPRA AGORA ME DECPCIONOU",
         "2018-01-18 00:00:00",
         "2018-01-20 21:25:45",
         "Abixo da média",
         "negativo"
        ],
        [
         "19",
         "373cbeecea8286a2b66c97b1b157ec46",
         "583174fbe37d3d5f0d6661be3aad1786",
         "1",
         "Não chegou meu produto ",
         "Péssimo",
         "2018-08-15 00:00:00",
         "2018-08-15 04:10:37",
         "Péssimo",
         "negativo"
        ],
        [
         "22",
         "d21bbc789670eab777d27372ab9094cc",
         "4fc44d78867142c627497b60a7e0228a",
         "5",
         "Ótimo",
         "Loja nota 10",
         "2018-07-10 00:00:00",
         "2018-07-11 14:10:25",
         "Ótimo",
         "positivo"
        ],
        [
         "24",
         "0e0190b9db53b689b285d3f3916f8441",
         "79832b7cb59ac6f887088ffd686e1d5e",
         "5",
         null,
         "obrigado pela atençao amim dispensada",
         "2017-12-01 00:00:00",
         "2017-12-09 22:58:58",
         "Ótimo",
         "positivo"
        ],
        [
         "27",
         "fe3db7c069d694bab50cc43463f91608",
         "2ca73e2ff9e3a186ad1e1ffb9b1d9c10",
         "5",
         null,
         "A compra foi realizada facilmente.\r\nA entrega foi efetuada muito antes do prazo dado.\r\nO produto já começou a ser usado e até o presente,\r\nsem problemas.",
         "2018-03-23 00:00:00",
         "2018-04-01 00:27:51",
         "Ótimo",
         "positivo"
        ],
        [
         "28",
         "e07eee7ad7666276bd8b27fbd83fd1ff",
         "68b3cbc68e4cd1fe19bec35f1d3bb7ee",
         "5",
         null,
         "relógio muito bonito e barato.",
         "2018-03-29 00:00:00",
         "2018-04-02 14:19:31",
         "Ótimo",
         "positivo"
        ],
        [
         "29",
         "2c5e27fc178bde7ac173c9c62c31b070",
         "0ce9a24111d850192a933fcaab6fbad3",
         "1",
         null,
         "Não gostei ! Comprei gato por lebre",
         "2017-12-13 00:00:00",
         "2017-12-16 07:14:07",
         "Péssimo",
         "negativo"
        ],
        [
         "32",
         "58044bca115705a48fe0e00a21390c54",
         "68e55ca79d04a79f20d4bfc0146f4b66",
         "1",
         null,
         "Sempre compro pela Internet e a entrega ocorre antes do prazo combinado, que acredito ser o prazo máximo. No stark o prazo máximo já se esgotou e ainda não recebi o produto.",
         "2018-04-08 00:00:00",
         "2018-04-09 12:22:39",
         "Péssimo",
         "negativo"
        ],
        [
         "34",
         "c92cdd7dd544a01aa35137f901669cdf",
         "37e7875cdce5a9e5b3a692971f370151",
         "4",
         "Muito bom.",
         "Recebi exatamente o que esperava. As demais encomendas de outros vendedores atrasaram, mas esta chegou no prazo.",
         "2018-06-07 00:00:00",
         "2018-06-09 18:44:02",
         "Acima da média",
         "positivo"
        ],
        [
         "36",
         "08c9d79ec0eba1d252e3f52f14b8e6a9",
         "e029f708df3cc108b3264558771605c6",
         "5",
         "Bom",
         "Recomendo ,",
         "2018-06-13 00:00:00",
         "2018-06-13 22:54:44",
         "Ótimo",
         "positivo"
        ],
        [
         "37",
         "2170c9452c2216457b36003fe2969fbb",
         "af32671d0b8ce510a94d9111d97371d3",
         "5",
         null,
         "muito boa ",
         "2018-03-22 00:00:00",
         "2018-03-30 23:37:25",
         "Ótimo",
         "positivo"
        ],
        [
         "38",
         "b193ff3c9f32a01f3a0d9ae26b94d244",
         "e2e6ee1ed2d7f2f36b05d234983bd7a0",
         "5",
         "Maravilhoso!",
         "Tô completamente apaixonada, loja super responsável e confiável!",
         "2018-08-10 00:00:00",
         "2018-08-11 00:22:13",
         "Ótimo",
         "positivo"
        ],
        [
         "39",
         "9fd59cd04b42f600df9f25e54082a8d1",
         "3c314f50bc654f3c4e317b055681dff9",
         "1",
         null,
         "Nada de chegar o meu pedido.",
         "2017-04-21 00:00:00",
         "2017-04-23 05:37:03",
         "Péssimo",
         "negativo"
        ],
        [
         "43",
         "86c5cfa7fcbde303f704b60a78ced7d6",
         "a6456e781cb962cc3f412b04de4fed7b",
         "5",
         "Entrega perfeita",
         "Muito bom. muito cheiroso.",
         "2018-06-13 00:00:00",
         "2018-06-14 17:29:03",
         "Ótimo",
         "positivo"
        ],
        [
         "47",
         "890ec1767be8eb104877db6d68eaade5",
         "b3271f5ebce80cbecb67c5b88487a44a",
         "5",
         null,
         "otimo vendedor chegou ate antes do prazo , adorei o produto",
         "2017-05-13 00:00:00",
         "2017-05-14 02:57:19",
         "Ótimo",
         "positivo"
        ],
        [
         "49",
         "7d9ac3e98adc0c8ad579e6a2257d79f9",
         "dfa48852c93427261c98fb2e01f33bea",
         "5",
         null,
         "Processo de compra tranquilo e eficiente.",
         "2018-04-24 00:00:00",
         "2018-04-25 16:01:03",
         "Ótimo",
         "positivo"
        ],
        [
         "50",
         "c41bd21983e298a240410ebb391bf075",
         "9562b424b05978a493db2a5122ecab1f",
         "5",
         null,
         "Tomara q dure pois é de pelinho.",
         "2017-05-19 00:00:00",
         "2017-05-21 03:04:35",
         "Ótimo",
         "positivo"
        ],
        [
         "51",
         "e233e51d11511bf30e568c76360ace52",
         "548df2c6e5f089574614894bca78acf5",
         "1",
         null,
         "recebi somente 1 controle Midea Split ESTILO.\r\nFaltou Controle Remoto para Ar Condicionado Consul",
         "2018-01-28 00:00:00",
         "2018-02-04 11:06:15",
         "Péssimo",
         "negativo"
        ],
        [
         "55",
         "3d94fd645cdaacc8c9f0dc0a2a1f5166",
         "4d483bf690ca21bdc005df9b623673c7",
         "5",
         null,
         "boa",
         "2017-03-21 00:00:00",
         "2017-03-22 00:58:49",
         "Ótimo",
         "positivo"
        ],
        [
         "59",
         "500c05500aa275953129f49799ee5c73",
         "8a9424899aac432d80d8e580932b5ee9",
         "5",
         "MT lindo",
         "MT lindo",
         "2018-07-25 00:00:00",
         "2018-07-25 21:37:22",
         "Ótimo",
         "positivo"
        ],
        [
         "61",
         "6a0969d0769d2f3ff6438809a1cc455e",
         "32638fbca8d1a197e649fd5138e12049",
         "5",
         null,
         "Ocorreu tudo como contratado sendo a entrega realizada antes do prazo \r\n Estou satisfeita\r\n",
         "2017-06-02 00:00:00",
         "2017-06-03 13:12:07",
         "Ótimo",
         "positivo"
        ],
        [
         "62",
         "8a64945e89526e68bc16383391590232",
         "71960e6af960919256a958a3633e1040",
         "5",
         null,
         "Amei achei lindo ,muito delicado adorei",
         "2018-04-18 00:00:00",
         "2018-04-18 22:30:45",
         "Ótimo",
         "positivo"
        ],
        [
         "64",
         "c0dbf9a325d2a2fece43873be47191e1",
         "b324f4270850cbba23533b9a9d3434a9",
         "4",
         null,
         "Ótima loja para parceria: rápidíssima, produtos bem embalados e de qualidade! Só o custo do frete que foi meio azedo.",
         "2018-04-04 00:00:00",
         "2018-04-06 15:43:39",
         "Acima da média",
         "positivo"
        ],
        [
         "67",
         "109b5ce2dd11bb8460eff3b86da6fefc",
         "25362fbf6aac4b01a28dee1e076acc26",
         "5",
         "Ótimo Produto! ",
         "Recomendo o vendedor... ",
         "2018-08-17 00:00:00",
         "2018-08-17 21:47:08",
         "Ótimo",
         "positivo"
        ],
        [
         "68",
         "6d06808638ec0701bccd70bc8d462c28",
         "97d2f8fe76f2f253b8291e17b5383884",
         "1",
         null,
         "O produto não chegou no prazo estipulado e causou transtorno, pq programei a viagem de férias do meu filho, baseado no prazo. Moro na Bahia e ele em Cuiabá sozinho. Agora, a casa está vazia. ",
         "2016-12-09 00:00:00",
         "2016-12-19 14:10:43",
         "Péssimo",
         "negativo"
        ],
        [
         "69",
         "750d4311e8ddb6cba549ee86f06f0cca",
         "4b32a4cdfc1b80066a8ee3a4b7a2094f",
         "5",
         null,
         "Produto entregue como solicitado, e com muita brevidade. Parabéns!\r\n",
         "2017-08-09 00:00:00",
         "2017-08-09 12:03:45",
         "Ótimo",
         "positivo"
        ],
        [
         "73",
         "8b230a1373c6dc4bd867099fda1d7039",
         "071251fe3b3493294536f03737a8a679",
         "3",
         null,
         "Eu comprei duas unidades e só recebi uma e agora o que faço?",
         "2017-11-09 00:00:00",
         "2017-11-10 10:38:37",
         "Na média",
         "neutro"
        ],
        [
         "75",
         "cb2fc3e5711b5ae85e0491ee18af63ed",
         "34e6d418f368f8079ae152bc178bc66a",
         "3",
         null,
         "Produto bom, porém o que veio para mim não condiz com a foto do anúncio.",
         "2018-01-31 00:00:00",
         "2018-01-31 23:29:21",
         "Na média",
         "neutro"
        ],
        [
         "76",
         "60c714ed14cef913944a3147094a4742",
         "9ac05114800f02bfaa783bd76842dbe2",
         "1",
         null,
         "Produto muito inferior, mal acabado.",
         "2018-07-03 00:00:00",
         "2018-07-05 19:03:52",
         "Péssimo",
         "negativo"
        ],
        [
         "79",
         "c45811d9f90e22a81155b3a1e4a5c2e8",
         "491f193fc52075598871cfe6f19976d4",
         "5",
         "RECOMENDO SEMPRE!!",
         "O kit mochila patrulha canina é lindo!! Meu netinho vai amar!! Obrigada!!",
         "2018-06-19 00:00:00",
         "2018-06-19 17:44:05",
         "Ótimo",
         "positivo"
        ],
        [
         "80",
         "e29ab4a671400c41322e4855de633c6a",
         "17b296b73ebefd6213299342b09f097f",
         "5",
         null,
         "Maravilha ",
         "2017-08-09 00:00:00",
         "2017-08-11 23:28:46",
         "Ótimo",
         "positivo"
        ],
        [
         "87",
         "0bd4dcc4f6c4621baf37f73495cad8c4",
         "a11cd01ac67beef7e8bf09740d8a35c1",
         "3",
         null,
         "Entrega no prazo",
         "2017-03-23 00:00:00",
         "2017-03-23 21:20:16",
         "Na média",
         "neutro"
        ],
        [
         "88",
         "888f11883ff85fa5c07e6ae1192d85c4",
         "248907ae8054cb8e93d5aa44857779b4",
         "5",
         null,
         "Cumpriu o prometido na compra e com o uma entrega em tempo satisfatório ",
         "2018-01-04 00:00:00",
         "2018-01-05 23:30:00",
         "Ótimo",
         "positivo"
        ],
        [
         "89",
         "65dfeb60c40e3cbb0a1838285d86f885",
         "a2714ecbf6eeb3bb9cd7dba6dc1c5e82",
         "1",
         null,
         "Pedi reembolso e sem resposta até momento ",
         "2018-03-08 00:00:00",
         "2018-03-08 12:27:34",
         "Péssimo",
         "negativo"
        ],
        [
         "90",
         "50a1eaa2f96d6f3e02d0cd68d92bab75",
         "4a7cf245701068d38d441791b735e4bd",
         "5",
         "***** Recomendo",
         "Super rápido.",
         "2018-05-10 00:00:00",
         "2018-05-11 03:08:49",
         "Ótimo",
         "positivo"
        ],
        [
         "100",
         "436f71c9cc0c1aab7f51dc0cd0820516",
         "c676e726f8a14a9527b41b9dc50ca1bc",
         "5",
         null,
         "Satisfeito\r\n",
         "2017-11-22 00:00:00",
         "2017-11-22 14:45:40",
         "Ótimo",
         "positivo"
        ],
        [
         "103",
         "97d4feff1fd7129bee6cde095b9dac2a",
         "b4039fffc67d7a5a75a3ba881d75e402",
         "5",
         null,
         "estao de parabens... sempre chega com muiiita antecedencia..\r\n\r\nMuito obrigada.... ",
         "2017-06-24 00:00:00",
         "2017-06-29 13:48:21",
         "Ótimo",
         "positivo"
        ],
        [
         "108",
         "1692078634b63c7f25aa90ee746ec498",
         "5bc4e94aef2841f392fb6fe7ceef69b6",
         "5",
         "OTIMO",
         "OK RECOMENDO",
         "2018-05-23 00:00:00",
         "2018-05-28 12:48:45",
         "Ótimo",
         "positivo"
        ],
        [
         "110",
         "ff722b4c68783a4459a3adb9bb4e1d0d",
         "b8702f50a689621ab21ef200b55a5b8d",
         "3",
         null,
         "Produto chegou, mas meu PC não conseguiu reconhecer as portas USB.",
         "2018-01-16 00:00:00",
         "2018-01-18 23:25:29",
         "Na média",
         "neutro"
        ],
        [
         "111",
         "8055e963f26f70c406ca517b2c2848e6",
         "9218ec94cd0d96e4c3e6b8c1504aa8dc",
         "5",
         null,
         "Produto de muito boa qualidade, chegou antes do prazo prometido",
         "2017-12-17 00:00:00",
         "2017-12-19 17:31:58",
         "Ótimo",
         "positivo"
        ],
        [
         "115",
         "ae728c1061bf163b4bd256ad9ee0bb83",
         "45c780334bc32cb77559a65c5f171160",
         "1",
         null,
         "Este foi o pedido\r\nBalde Com 128 Peças - Blocos De Montar 2 un - R$ 25,00 cada (NÃO FOI ENTREGUE)\r\nVendido e entregue targaryen\r\nTapete de Eva Nº Letras 36 Peças Crianças 1 un - R$ 35,90 (ESTE FOI ENTREG",
         "2018-01-04 00:00:00",
         "2018-01-10 09:52:57",
         "Péssimo",
         "negativo"
        ],
        [
         "116",
         "41926e45719f9b923357ea3bb222195f",
         "1601df22ba2f78168443e6f729e74868",
         "5",
         null,
         "Entrega muito rápida\r\nParabéns",
         "2017-08-29 00:00:00",
         "2017-08-29 21:06:01",
         "Ótimo",
         "positivo"
        ],
        [
         "119",
         "72730619a00e0ecdecf0a4ff862d8996",
         "af76a45a10524549102e010f2bd9d3cd",
         "1",
         null,
         "comprei tres pacotes de cinco folhas cada de papel transfer para tecido escuro e so recebi dois",
         "2017-11-07 00:00:00",
         "2017-11-08 21:54:58",
         "Péssimo",
         "negativo"
        ],
        [
         "121",
         "c5d83c2523ef15209c8faf5133a7bafb",
         "7eba0b6b5cb480d65416e26e2528d250",
         "4",
         null,
         "Estava faltando apenas um produto, eu recebi hoje , muito obrigada!\r\nTudo certo!\r\n\r\nAtt \r\n\r\nElenice.",
         "2017-12-16 00:00:00",
         "2017-12-19 23:21:17",
         "Acima da média",
         "positivo"
        ],
        [
         "127",
         "766fc608e4f2683020fb0a121d9db23e",
         "77fc7da5ef4df2c48276ae832072dcf1",
         "5",
         null,
         "A bolsa térmica além de linda é super espaçosa . Produto de acordo com o anunciado e a entrega super rápida , entregou bem antes do prazo .",
         "2018-01-10 00:00:00",
         "2018-01-11 07:47:10",
         "Ótimo",
         "positivo"
        ]
       ],
       "shape": {
        "columns": 9,
        "rows": 40977
       }
      },
      "text/html": [
       "<div>\n",
       "<style scoped>\n",
       "    .dataframe tbody tr th:only-of-type {\n",
       "        vertical-align: middle;\n",
       "    }\n",
       "\n",
       "    .dataframe tbody tr th {\n",
       "        vertical-align: top;\n",
       "    }\n",
       "\n",
       "    .dataframe thead th {\n",
       "        text-align: right;\n",
       "    }\n",
       "</style>\n",
       "<table border=\"1\" class=\"dataframe\">\n",
       "  <thead>\n",
       "    <tr style=\"text-align: right;\">\n",
       "      <th></th>\n",
       "      <th>review_id</th>\n",
       "      <th>order_id</th>\n",
       "      <th>review_score</th>\n",
       "      <th>review_comment_title</th>\n",
       "      <th>review_comment_message</th>\n",
       "      <th>review_creation_date</th>\n",
       "      <th>review_answer_timestamp</th>\n",
       "      <th>review_score_classific</th>\n",
       "      <th>sentimento</th>\n",
       "    </tr>\n",
       "  </thead>\n",
       "  <tbody>\n",
       "    <tr>\n",
       "      <th>3</th>\n",
       "      <td>e64fb393e7b32834bb789ff8bb30750e</td>\n",
       "      <td>658677c97b385a9be170737859d3511b</td>\n",
       "      <td>5</td>\n",
       "      <td>NaN</td>\n",
       "      <td>Recebi bem antes do prazo estipulado.</td>\n",
       "      <td>2017-04-21</td>\n",
       "      <td>2017-04-21 22:02:06</td>\n",
       "      <td>Ótimo</td>\n",
       "      <td>positivo</td>\n",
       "    </tr>\n",
       "    <tr>\n",
       "      <th>4</th>\n",
       "      <td>f7c4243c7fe1938f181bec41a392bdeb</td>\n",
       "      <td>8e6bfb81e283fa7e4f11123a3fb894f1</td>\n",
       "      <td>5</td>\n",
       "      <td>NaN</td>\n",
       "      <td>Parabéns lojas lannister adorei comprar pela I...</td>\n",
       "      <td>2018-03-01</td>\n",
       "      <td>2018-03-02 10:26:53</td>\n",
       "      <td>Ótimo</td>\n",
       "      <td>positivo</td>\n",
       "    </tr>\n",
       "    <tr>\n",
       "      <th>9</th>\n",
       "      <td>8670d52e15e00043ae7de4c01cc2fe06</td>\n",
       "      <td>b9bf720beb4ab3728760088589c62129</td>\n",
       "      <td>4</td>\n",
       "      <td>recomendo</td>\n",
       "      <td>aparelho eficiente. no site a marca do aparelh...</td>\n",
       "      <td>2018-05-22</td>\n",
       "      <td>2018-05-23 16:45:47</td>\n",
       "      <td>Acima da média</td>\n",
       "      <td>positivo</td>\n",
       "    </tr>\n",
       "    <tr>\n",
       "      <th>12</th>\n",
       "      <td>4b49719c8a200003f700d3d986ea1a19</td>\n",
       "      <td>9d6f15f95d01e79bd1349cc208361f09</td>\n",
       "      <td>4</td>\n",
       "      <td>NaN</td>\n",
       "      <td>Mas um pouco ,travando...pelo valor ta Boa.\\r\\n</td>\n",
       "      <td>2018-02-16</td>\n",
       "      <td>2018-02-20 10:52:22</td>\n",
       "      <td>Acima da média</td>\n",
       "      <td>positivo</td>\n",
       "    </tr>\n",
       "    <tr>\n",
       "      <th>15</th>\n",
       "      <td>3948b09f7c818e2d86c9a546758b2335</td>\n",
       "      <td>e51478e7e277a83743b6f9991dbfa3fb</td>\n",
       "      <td>5</td>\n",
       "      <td>Super recomendo</td>\n",
       "      <td>Vendedor confiável, produto ok e entrega antes...</td>\n",
       "      <td>2018-05-23</td>\n",
       "      <td>2018-05-24 03:00:01</td>\n",
       "      <td>Ótimo</td>\n",
       "      <td>positivo</td>\n",
       "    </tr>\n",
       "    <tr>\n",
       "      <th>...</th>\n",
       "      <td>...</td>\n",
       "      <td>...</td>\n",
       "      <td>...</td>\n",
       "      <td>...</td>\n",
       "      <td>...</td>\n",
       "      <td>...</td>\n",
       "      <td>...</td>\n",
       "      <td>...</td>\n",
       "      <td>...</td>\n",
       "    </tr>\n",
       "    <tr>\n",
       "      <th>99205</th>\n",
       "      <td>98fffa80dc9acbde7388bef1600f3b15</td>\n",
       "      <td>d398e9c82363c12527f71801bf0e6100</td>\n",
       "      <td>4</td>\n",
       "      <td>NaN</td>\n",
       "      <td>para este produto recebi de acordo com a compr...</td>\n",
       "      <td>2017-11-29</td>\n",
       "      <td>2017-11-30 15:52:51</td>\n",
       "      <td>Acima da média</td>\n",
       "      <td>positivo</td>\n",
       "    </tr>\n",
       "    <tr>\n",
       "      <th>99208</th>\n",
       "      <td>df5fae90e85354241d5d64a8955b2b09</td>\n",
       "      <td>509b86c65fe4e2ad5b96408cfef9755e</td>\n",
       "      <td>5</td>\n",
       "      <td>NaN</td>\n",
       "      <td>Entregou dentro do prazo. O produto chegou em ...</td>\n",
       "      <td>2018-02-07</td>\n",
       "      <td>2018-02-19 19:47:23</td>\n",
       "      <td>Ótimo</td>\n",
       "      <td>positivo</td>\n",
       "    </tr>\n",
       "    <tr>\n",
       "      <th>99215</th>\n",
       "      <td>a709d176f59bc3af77f4149c96bae357</td>\n",
       "      <td>d5cb12269711bd1eaf7eed8fd32a7c95</td>\n",
       "      <td>3</td>\n",
       "      <td>NaN</td>\n",
       "      <td>O produto não foi enviado com NF, não existe v...</td>\n",
       "      <td>2018-05-19</td>\n",
       "      <td>2018-05-20 21:51:06</td>\n",
       "      <td>Na média</td>\n",
       "      <td>neutro</td>\n",
       "    </tr>\n",
       "    <tr>\n",
       "      <th>99221</th>\n",
       "      <td>b3de70c89b1510c4cd3d0649fd302472</td>\n",
       "      <td>55d4004744368f5571d1f590031933e4</td>\n",
       "      <td>5</td>\n",
       "      <td>NaN</td>\n",
       "      <td>Excelente mochila, entrega super rápida. Super...</td>\n",
       "      <td>2018-03-22</td>\n",
       "      <td>2018-03-23 09:10:43</td>\n",
       "      <td>Ótimo</td>\n",
       "      <td>positivo</td>\n",
       "    </tr>\n",
       "    <tr>\n",
       "      <th>99223</th>\n",
       "      <td>efe49f1d6f951dd88b51e6ccd4cc548f</td>\n",
       "      <td>90531360ecb1eec2a1fbb265a0db0508</td>\n",
       "      <td>1</td>\n",
       "      <td>NaN</td>\n",
       "      <td>meu produto chegou e ja tenho que devolver, po...</td>\n",
       "      <td>2017-07-03</td>\n",
       "      <td>2017-07-03 21:01:49</td>\n",
       "      <td>Péssimo</td>\n",
       "      <td>negativo</td>\n",
       "    </tr>\n",
       "  </tbody>\n",
       "</table>\n",
       "<p>40977 rows × 9 columns</p>\n",
       "</div>"
      ],
      "text/plain": [
       "                              review_id                          order_id  \\\n",
       "3      e64fb393e7b32834bb789ff8bb30750e  658677c97b385a9be170737859d3511b   \n",
       "4      f7c4243c7fe1938f181bec41a392bdeb  8e6bfb81e283fa7e4f11123a3fb894f1   \n",
       "9      8670d52e15e00043ae7de4c01cc2fe06  b9bf720beb4ab3728760088589c62129   \n",
       "12     4b49719c8a200003f700d3d986ea1a19  9d6f15f95d01e79bd1349cc208361f09   \n",
       "15     3948b09f7c818e2d86c9a546758b2335  e51478e7e277a83743b6f9991dbfa3fb   \n",
       "...                                 ...                               ...   \n",
       "99205  98fffa80dc9acbde7388bef1600f3b15  d398e9c82363c12527f71801bf0e6100   \n",
       "99208  df5fae90e85354241d5d64a8955b2b09  509b86c65fe4e2ad5b96408cfef9755e   \n",
       "99215  a709d176f59bc3af77f4149c96bae357  d5cb12269711bd1eaf7eed8fd32a7c95   \n",
       "99221  b3de70c89b1510c4cd3d0649fd302472  55d4004744368f5571d1f590031933e4   \n",
       "99223  efe49f1d6f951dd88b51e6ccd4cc548f  90531360ecb1eec2a1fbb265a0db0508   \n",
       "\n",
       "       review_score review_comment_title  \\\n",
       "3                 5                  NaN   \n",
       "4                 5                  NaN   \n",
       "9                 4            recomendo   \n",
       "12                4                  NaN   \n",
       "15                5      Super recomendo   \n",
       "...             ...                  ...   \n",
       "99205             4                  NaN   \n",
       "99208             5                  NaN   \n",
       "99215             3                  NaN   \n",
       "99221             5                  NaN   \n",
       "99223             1                  NaN   \n",
       "\n",
       "                                  review_comment_message review_creation_date  \\\n",
       "3                  Recebi bem antes do prazo estipulado.           2017-04-21   \n",
       "4      Parabéns lojas lannister adorei comprar pela I...           2018-03-01   \n",
       "9      aparelho eficiente. no site a marca do aparelh...           2018-05-22   \n",
       "12       Mas um pouco ,travando...pelo valor ta Boa.\\r\\n           2018-02-16   \n",
       "15     Vendedor confiável, produto ok e entrega antes...           2018-05-23   \n",
       "...                                                  ...                  ...   \n",
       "99205  para este produto recebi de acordo com a compr...           2017-11-29   \n",
       "99208  Entregou dentro do prazo. O produto chegou em ...           2018-02-07   \n",
       "99215  O produto não foi enviado com NF, não existe v...           2018-05-19   \n",
       "99221  Excelente mochila, entrega super rápida. Super...           2018-03-22   \n",
       "99223  meu produto chegou e ja tenho que devolver, po...           2017-07-03   \n",
       "\n",
       "      review_answer_timestamp review_score_classific sentimento  \n",
       "3         2017-04-21 22:02:06                  Ótimo   positivo  \n",
       "4         2018-03-02 10:26:53                  Ótimo   positivo  \n",
       "9         2018-05-23 16:45:47         Acima da média   positivo  \n",
       "12        2018-02-20 10:52:22         Acima da média   positivo  \n",
       "15        2018-05-24 03:00:01                  Ótimo   positivo  \n",
       "...                       ...                    ...        ...  \n",
       "99205     2017-11-30 15:52:51         Acima da média   positivo  \n",
       "99208     2018-02-19 19:47:23                  Ótimo   positivo  \n",
       "99215     2018-05-20 21:51:06               Na média     neutro  \n",
       "99221     2018-03-23 09:10:43                  Ótimo   positivo  \n",
       "99223     2017-07-03 21:01:49                Péssimo   negativo  \n",
       "\n",
       "[40977 rows x 9 columns]"
      ]
     },
     "execution_count": 20,
     "metadata": {},
     "output_type": "execute_result"
    }
   ],
   "source": [
    "df_ava_not_null_and_not_neutral"
   ]
  },
  {
   "cell_type": "markdown",
   "id": "07ee4074",
   "metadata": {},
   "source": [
    "### Orders"
   ]
  },
  {
   "cell_type": "code",
   "execution_count": 49,
   "id": "466aa332",
   "metadata": {},
   "outputs": [
    {
     "data": {
      "text/plain": [
       "order_id                                 object\n",
       "customer_id                              object\n",
       "order_status                             object\n",
       "order_purchase_timestamp         datetime64[ns]\n",
       "order_approved_at                datetime64[ns]\n",
       "order_delivered_carrier_date     datetime64[ns]\n",
       "order_delivered_customer_date    datetime64[ns]\n",
       "order_estimated_delivery_date    datetime64[ns]\n",
       "dtype: object"
      ]
     },
     "execution_count": 49,
     "metadata": {},
     "output_type": "execute_result"
    }
   ],
   "source": [
    "df_orders.dtypes"
   ]
  },
  {
   "cell_type": "code",
   "execution_count": 24,
   "id": "d3dd2155",
   "metadata": {},
   "outputs": [],
   "source": [
    "df_orders[\"order_purchase_timestamp\"] = pd.to_datetime(df_orders[\"order_purchase_timestamp\"]) \n",
    "df_orders[\"order_approved_at\"] = pd.to_datetime(df_orders[\"order_approved_at\"]) \n",
    "df_orders[\"order_delivered_carrier_date\"] = pd.to_datetime(df_orders[\"order_delivered_carrier_date\"]) \n",
    "df_orders[\"order_estimated_delivery_date\"] = pd.to_datetime(df_orders[\"order_estimated_delivery_date\"]) \n",
    "df_orders[\"order_delivered_customer_date\"] = pd.to_datetime(df_orders[\"order_delivered_customer_date\"]) \n"
   ]
  },
  {
   "cell_type": "markdown",
   "id": "459b4e34",
   "metadata": {},
   "source": [
    "### Products "
   ]
  },
  {
   "cell_type": "code",
   "execution_count": 27,
   "id": "f7664756",
   "metadata": {},
   "outputs": [
    {
     "data": {
      "application/vnd.microsoft.datawrangler.viewer.v0+json": {
       "columns": [
        {
         "name": "index",
         "rawType": "int64",
         "type": "integer"
        },
        {
         "name": "product_id",
         "rawType": "object",
         "type": "string"
        },
        {
         "name": "product_category_name",
         "rawType": "object",
         "type": "unknown"
        },
        {
         "name": "product_name_lenght",
         "rawType": "float64",
         "type": "float"
        },
        {
         "name": "product_description_lenght",
         "rawType": "float64",
         "type": "float"
        },
        {
         "name": "product_photos_qty",
         "rawType": "float64",
         "type": "float"
        },
        {
         "name": "product_weight_g",
         "rawType": "float64",
         "type": "float"
        },
        {
         "name": "product_length_cm",
         "rawType": "float64",
         "type": "float"
        },
        {
         "name": "product_height_cm",
         "rawType": "float64",
         "type": "float"
        },
        {
         "name": "product_width_cm",
         "rawType": "float64",
         "type": "float"
        }
       ],
       "conversionMethod": "pd.DataFrame",
       "ref": "5ac26c6f-84a8-4703-b7f1-42be68690322",
       "rows": [
        [
         "0",
         "1e9e8ef04dbcff4541ed26657ea517e5",
         "perfumaria",
         "40.0",
         "287.0",
         "1.0",
         "225.0",
         "16.0",
         "10.0",
         "14.0"
        ],
        [
         "1",
         "3aa071139cb16b67ca9e5dea641aaa2f",
         "artes",
         "44.0",
         "276.0",
         "1.0",
         "1000.0",
         "30.0",
         "18.0",
         "20.0"
        ],
        [
         "2",
         "96bd76ec8810374ed1b65e291975717f",
         "esporte_lazer",
         "46.0",
         "250.0",
         "1.0",
         "154.0",
         "18.0",
         "9.0",
         "15.0"
        ],
        [
         "3",
         "cef67bcfe19066a932b7673e239eb23d",
         "bebes",
         "27.0",
         "261.0",
         "1.0",
         "371.0",
         "26.0",
         "4.0",
         "26.0"
        ],
        [
         "4",
         "9dc1a7de274444849c219cff195d0b71",
         "utilidades_domesticas",
         "37.0",
         "402.0",
         "4.0",
         "625.0",
         "20.0",
         "17.0",
         "13.0"
        ],
        [
         "5",
         "41d3672d4792049fa1779bb35283ed13",
         "instrumentos_musicais",
         "60.0",
         "745.0",
         "1.0",
         "200.0",
         "38.0",
         "5.0",
         "11.0"
        ],
        [
         "6",
         "732bd381ad09e530fe0a5f457d81becb",
         "cool_stuff",
         "56.0",
         "1272.0",
         "4.0",
         "18350.0",
         "70.0",
         "24.0",
         "44.0"
        ],
        [
         "7",
         "2548af3e6e77a690cf3eb6368e9ab61e",
         "moveis_decoracao",
         "56.0",
         "184.0",
         "2.0",
         "900.0",
         "40.0",
         "8.0",
         "40.0"
        ],
        [
         "8",
         "37cc742be07708b53a98702e77a21a02",
         "eletrodomesticos",
         "57.0",
         "163.0",
         "1.0",
         "400.0",
         "27.0",
         "13.0",
         "17.0"
        ],
        [
         "9",
         "8c92109888e8cdf9d66dc7e463025574",
         "brinquedos",
         "36.0",
         "1156.0",
         "1.0",
         "600.0",
         "17.0",
         "10.0",
         "12.0"
        ],
        [
         "10",
         "14aa47b7fe5c25522b47b4b29c98dcb9",
         "cama_mesa_banho",
         "54.0",
         "630.0",
         "1.0",
         "1100.0",
         "16.0",
         "10.0",
         "16.0"
        ],
        [
         "11",
         "03b63c5fc16691530586ae020c345514",
         "bebes",
         "49.0",
         "728.0",
         "4.0",
         "7150.0",
         "50.0",
         "19.0",
         "45.0"
        ],
        [
         "12",
         "cf55509ea8edaaac1d28fdb16e48fc22",
         "instrumentos_musicais",
         "43.0",
         "1827.0",
         "3.0",
         "250.0",
         "17.0",
         "7.0",
         "17.0"
        ],
        [
         "13",
         "7bb6f29c2be57716194f96496660c7c2",
         "moveis_decoracao",
         "51.0",
         "2083.0",
         "2.0",
         "600.0",
         "68.0",
         "11.0",
         "13.0"
        ],
        [
         "14",
         "eb31436580a610f202c859463d8c7415",
         "construcao_ferramentas_seguranca",
         "59.0",
         "1602.0",
         "4.0",
         "200.0",
         "17.0",
         "7.0",
         "17.0"
        ],
        [
         "15",
         "3bb7f144022e6732727d8d838a7b13b3",
         "esporte_lazer",
         "22.0",
         "3021.0",
         "1.0",
         "800.0",
         "16.0",
         "2.0",
         "11.0"
        ],
        [
         "16",
         "6a2fb4dd53d2cdb88e0432f1284a004c",
         "perfumaria",
         "39.0",
         "346.0",
         "2.0",
         "400.0",
         "27.0",
         "5.0",
         "20.0"
        ],
        [
         "17",
         "a1b71017a84f92fd8da4aeefba108a24",
         "informatica_acessorios",
         "59.0",
         "636.0",
         "1.0",
         "900.0",
         "40.0",
         "15.0",
         "20.0"
        ],
        [
         "18",
         "a0736b92e52f6cead290e30b578413b6",
         "moveis_decoracao",
         "56.0",
         "296.0",
         "2.0",
         "1700.0",
         "100.0",
         "7.0",
         "15.0"
        ],
        [
         "19",
         "f53103a77d9cf245e579ea37e5ec51f0",
         "cama_mesa_banho",
         "52.0",
         "206.0",
         "1.0",
         "500.0",
         "16.0",
         "10.0",
         "16.0"
        ],
        [
         "20",
         "1c1890ba1779090cd54008a3c3302921",
         "moveis_decoracao",
         "27.0",
         "158.0",
         "4.0",
         "2550.0",
         "29.0",
         "24.0",
         "45.0"
        ],
        [
         "21",
         "518ef5de2c2b3a255e326a4594ba15d9",
         "cama_mesa_banho",
         "27.0",
         "329.0",
         "2.0",
         "800.0",
         "36.0",
         "8.0",
         "16.0"
        ],
        [
         "22",
         "e3e020af31d4d89d2602272b315c3f6e",
         "beleza_saude",
         "58.0",
         "1987.0",
         "3.0",
         "75.0",
         "21.0",
         "7.0",
         "13.0"
        ],
        [
         "23",
         "8b41fbc2b984a12030090112324d1bc4",
         "bebes",
         "55.0",
         "1627.0",
         "1.0",
         "500.0",
         "20.0",
         "13.0",
         "13.0"
        ],
        [
         "24",
         "d03bd02af9fff4b98f1c972315e5e9ef",
         "moveis_decoracao",
         "56.0",
         "209.0",
         "1.0",
         "1800.0",
         "40.0",
         "10.0",
         "30.0"
        ],
        [
         "25",
         "8ba4f2a4ae695d26e5626c1bf710975e",
         "utilidades_domesticas",
         "52.0",
         "968.0",
         "1.0",
         "900.0",
         "50.0",
         "5.0",
         "50.0"
        ],
        [
         "26",
         "f6574524b07d5bb753bab6f35abe2d06",
         "malas_acessorios",
         "52.0",
         "573.0",
         "5.0",
         "3600.0",
         "35.0",
         "25.0",
         "50.0"
        ],
        [
         "27",
         "c78b767da00efb70c1bcccab87c28cd5",
         "informatica_acessorios",
         "35.0",
         "1101.0",
         "2.0",
         "300.0",
         "42.0",
         "2.0",
         "30.0"
        ],
        [
         "28",
         "a0253d43394dd4da9a5d7b1f546f1a32",
         "informatica_acessorios",
         "59.0",
         "1890.0",
         "2.0",
         "740.0",
         "23.0",
         "13.0",
         "13.0"
        ],
        [
         "29",
         "051b9ff13dd55c0a6655a15ff296f80d",
         "esporte_lazer",
         "50.0",
         "529.0",
         "2.0",
         "3600.0",
         "62.0",
         "23.0",
         "23.0"
        ],
        [
         "30",
         "47859fca9dd7485cbd93c3e8993bb74f",
         "cama_mesa_banho",
         "45.0",
         "206.0",
         "1.0",
         "650.0",
         "16.0",
         "10.0",
         "16.0"
        ],
        [
         "31",
         "e1d1d22e9f8122a4ec1533b032c12562",
         "ferramentas_jardim",
         "49.0",
         "1163.0",
         "9.0",
         "2150.0",
         "70.0",
         "8.0",
         "34.0"
        ],
        [
         "32",
         "20e37962088a4061d3578def47a8648b",
         "moveis_decoracao",
         "60.0",
         "208.0",
         "1.0",
         "800.0",
         "40.0",
         "10.0",
         "34.0"
        ],
        [
         "33",
         "1eba879220bd0981a0e2fbab499ed4e1",
         "moveis_escritorio",
         "57.0",
         "476.0",
         "1.0",
         "8950.0",
         "52.0",
         "51.0",
         "17.0"
        ],
        [
         "34",
         "ce5b91848b91118daffb3af53b747475",
         "esporte_lazer",
         "50.0",
         "699.0",
         "4.0",
         "1388.0",
         "34.0",
         "9.0",
         "31.0"
        ],
        [
         "35",
         "5370b82a213393979691c98074265584",
         "bebes",
         "52.0",
         "708.0",
         "9.0",
         "7950.0",
         "33.0",
         "30.0",
         "44.0"
        ],
        [
         "36",
         "b8dac5113b06a97e64943234522572b9",
         "automotivo",
         "43.0",
         "1062.0",
         "2.0",
         "6000.0",
         "87.0",
         "3.0",
         "42.0"
        ],
        [
         "37",
         "750cf819d127191920eda79a4b6fb479",
         "eletronicos",
         "31.0",
         "806.0",
         "1.0",
         "263.0",
         "18.0",
         "12.0",
         "16.0"
        ],
        [
         "38",
         "e6af694343b45b56304ad91974a110b9",
         "utilidades_domesticas",
         "37.0",
         "352.0",
         "1.0",
         "3900.0",
         "19.0",
         "20.0",
         "15.0"
        ],
        [
         "39",
         "680874c570dad71c0a2844cfbf417054",
         "moveis_decoracao",
         "47.0",
         "502.0",
         "1.0",
         "600.0",
         "25.0",
         "25.0",
         "25.0"
        ],
        [
         "40",
         "8b3a9476f74f5297f7ff0ec6d95fe1ea",
         "moveis_decoracao",
         "63.0",
         "254.0",
         "2.0",
         "2050.0",
         "49.0",
         "13.0",
         "41.0"
        ],
        [
         "41",
         "1c6fb703c624b381a20f21f757694866",
         "brinquedos",
         "33.0",
         "471.0",
         "2.0",
         "725.0",
         "22.0",
         "17.0",
         "15.0"
        ],
        [
         "42",
         "db46052aed7dff59ba38cf2fe29b87f9",
         "cama_mesa_banho",
         "56.0",
         "509.0",
         "4.0",
         "6350.0",
         "45.0",
         "15.0",
         "35.0"
        ],
        [
         "43",
         "b864b103180d5a6a3f830e67f93e8735",
         "bebes",
         "47.0",
         "980.0",
         "4.0",
         "600.0",
         "70.0",
         "11.0",
         "11.0"
        ],
        [
         "44",
         "7a8dac4aaa16bc642e4df33adcf03303",
         "cool_stuff",
         "38.0",
         "1701.0",
         "2.0",
         "11750.0",
         "18.0",
         "40.0",
         "79.0"
        ],
        [
         "45",
         "83b9bc6aae6f527ff6aafb9e01d6cbf3",
         "brinquedos",
         "20.0",
         "866.0",
         "3.0",
         "2550.0",
         "22.0",
         "32.0",
         "38.0"
        ],
        [
         "46",
         "5f504b3a1c75b73d6151be81eb05bdc9",
         "cool_stuff",
         "38.0",
         "1176.0",
         "3.0",
         "15350.0",
         "47.0",
         "40.0",
         "47.0"
        ],
        [
         "47",
         "bbf920aa6ac72007a726e6f419156f8f",
         "moveis_decoracao",
         "42.0",
         "303.0",
         "2.0",
         "1300.0",
         "25.0",
         "16.0",
         "25.0"
        ],
        [
         "48",
         "c3b7e4d83e530c27a8e6368296aece48",
         "moveis_decoracao",
         "60.0",
         "1972.0",
         "2.0",
         "850.0",
         "69.0",
         "11.0",
         "11.0"
        ],
        [
         "49",
         "c5d8079278e912d7e3b6beb48ecb56e8",
         "beleza_saude",
         "60.0",
         "330.0",
         "1.0",
         "1300.0",
         "19.0",
         "28.0",
         "17.0"
        ]
       ],
       "shape": {
        "columns": 9,
        "rows": 32951
       }
      },
      "text/html": [
       "<div>\n",
       "<style scoped>\n",
       "    .dataframe tbody tr th:only-of-type {\n",
       "        vertical-align: middle;\n",
       "    }\n",
       "\n",
       "    .dataframe tbody tr th {\n",
       "        vertical-align: top;\n",
       "    }\n",
       "\n",
       "    .dataframe thead th {\n",
       "        text-align: right;\n",
       "    }\n",
       "</style>\n",
       "<table border=\"1\" class=\"dataframe\">\n",
       "  <thead>\n",
       "    <tr style=\"text-align: right;\">\n",
       "      <th></th>\n",
       "      <th>product_id</th>\n",
       "      <th>product_category_name</th>\n",
       "      <th>product_name_lenght</th>\n",
       "      <th>product_description_lenght</th>\n",
       "      <th>product_photos_qty</th>\n",
       "      <th>product_weight_g</th>\n",
       "      <th>product_length_cm</th>\n",
       "      <th>product_height_cm</th>\n",
       "      <th>product_width_cm</th>\n",
       "    </tr>\n",
       "  </thead>\n",
       "  <tbody>\n",
       "    <tr>\n",
       "      <th>0</th>\n",
       "      <td>1e9e8ef04dbcff4541ed26657ea517e5</td>\n",
       "      <td>perfumaria</td>\n",
       "      <td>40.0</td>\n",
       "      <td>287.0</td>\n",
       "      <td>1.0</td>\n",
       "      <td>225.0</td>\n",
       "      <td>16.0</td>\n",
       "      <td>10.0</td>\n",
       "      <td>14.0</td>\n",
       "    </tr>\n",
       "    <tr>\n",
       "      <th>1</th>\n",
       "      <td>3aa071139cb16b67ca9e5dea641aaa2f</td>\n",
       "      <td>artes</td>\n",
       "      <td>44.0</td>\n",
       "      <td>276.0</td>\n",
       "      <td>1.0</td>\n",
       "      <td>1000.0</td>\n",
       "      <td>30.0</td>\n",
       "      <td>18.0</td>\n",
       "      <td>20.0</td>\n",
       "    </tr>\n",
       "    <tr>\n",
       "      <th>2</th>\n",
       "      <td>96bd76ec8810374ed1b65e291975717f</td>\n",
       "      <td>esporte_lazer</td>\n",
       "      <td>46.0</td>\n",
       "      <td>250.0</td>\n",
       "      <td>1.0</td>\n",
       "      <td>154.0</td>\n",
       "      <td>18.0</td>\n",
       "      <td>9.0</td>\n",
       "      <td>15.0</td>\n",
       "    </tr>\n",
       "    <tr>\n",
       "      <th>3</th>\n",
       "      <td>cef67bcfe19066a932b7673e239eb23d</td>\n",
       "      <td>bebes</td>\n",
       "      <td>27.0</td>\n",
       "      <td>261.0</td>\n",
       "      <td>1.0</td>\n",
       "      <td>371.0</td>\n",
       "      <td>26.0</td>\n",
       "      <td>4.0</td>\n",
       "      <td>26.0</td>\n",
       "    </tr>\n",
       "    <tr>\n",
       "      <th>4</th>\n",
       "      <td>9dc1a7de274444849c219cff195d0b71</td>\n",
       "      <td>utilidades_domesticas</td>\n",
       "      <td>37.0</td>\n",
       "      <td>402.0</td>\n",
       "      <td>4.0</td>\n",
       "      <td>625.0</td>\n",
       "      <td>20.0</td>\n",
       "      <td>17.0</td>\n",
       "      <td>13.0</td>\n",
       "    </tr>\n",
       "    <tr>\n",
       "      <th>...</th>\n",
       "      <td>...</td>\n",
       "      <td>...</td>\n",
       "      <td>...</td>\n",
       "      <td>...</td>\n",
       "      <td>...</td>\n",
       "      <td>...</td>\n",
       "      <td>...</td>\n",
       "      <td>...</td>\n",
       "      <td>...</td>\n",
       "    </tr>\n",
       "    <tr>\n",
       "      <th>32946</th>\n",
       "      <td>a0b7d5a992ccda646f2d34e418fff5a0</td>\n",
       "      <td>moveis_decoracao</td>\n",
       "      <td>45.0</td>\n",
       "      <td>67.0</td>\n",
       "      <td>2.0</td>\n",
       "      <td>12300.0</td>\n",
       "      <td>40.0</td>\n",
       "      <td>40.0</td>\n",
       "      <td>40.0</td>\n",
       "    </tr>\n",
       "    <tr>\n",
       "      <th>32947</th>\n",
       "      <td>bf4538d88321d0fd4412a93c974510e6</td>\n",
       "      <td>construcao_ferramentas_iluminacao</td>\n",
       "      <td>41.0</td>\n",
       "      <td>971.0</td>\n",
       "      <td>1.0</td>\n",
       "      <td>1700.0</td>\n",
       "      <td>16.0</td>\n",
       "      <td>19.0</td>\n",
       "      <td>16.0</td>\n",
       "    </tr>\n",
       "    <tr>\n",
       "      <th>32948</th>\n",
       "      <td>9a7c6041fa9592d9d9ef6cfe62a71f8c</td>\n",
       "      <td>cama_mesa_banho</td>\n",
       "      <td>50.0</td>\n",
       "      <td>799.0</td>\n",
       "      <td>1.0</td>\n",
       "      <td>1400.0</td>\n",
       "      <td>27.0</td>\n",
       "      <td>7.0</td>\n",
       "      <td>27.0</td>\n",
       "    </tr>\n",
       "    <tr>\n",
       "      <th>32949</th>\n",
       "      <td>83808703fc0706a22e264b9d75f04a2e</td>\n",
       "      <td>informatica_acessorios</td>\n",
       "      <td>60.0</td>\n",
       "      <td>156.0</td>\n",
       "      <td>2.0</td>\n",
       "      <td>700.0</td>\n",
       "      <td>31.0</td>\n",
       "      <td>13.0</td>\n",
       "      <td>20.0</td>\n",
       "    </tr>\n",
       "    <tr>\n",
       "      <th>32950</th>\n",
       "      <td>106392145fca363410d287a815be6de4</td>\n",
       "      <td>cama_mesa_banho</td>\n",
       "      <td>58.0</td>\n",
       "      <td>309.0</td>\n",
       "      <td>1.0</td>\n",
       "      <td>2083.0</td>\n",
       "      <td>12.0</td>\n",
       "      <td>2.0</td>\n",
       "      <td>7.0</td>\n",
       "    </tr>\n",
       "  </tbody>\n",
       "</table>\n",
       "<p>32951 rows × 9 columns</p>\n",
       "</div>"
      ],
      "text/plain": [
       "                             product_id              product_category_name  \\\n",
       "0      1e9e8ef04dbcff4541ed26657ea517e5                         perfumaria   \n",
       "1      3aa071139cb16b67ca9e5dea641aaa2f                              artes   \n",
       "2      96bd76ec8810374ed1b65e291975717f                      esporte_lazer   \n",
       "3      cef67bcfe19066a932b7673e239eb23d                              bebes   \n",
       "4      9dc1a7de274444849c219cff195d0b71              utilidades_domesticas   \n",
       "...                                 ...                                ...   \n",
       "32946  a0b7d5a992ccda646f2d34e418fff5a0                   moveis_decoracao   \n",
       "32947  bf4538d88321d0fd4412a93c974510e6  construcao_ferramentas_iluminacao   \n",
       "32948  9a7c6041fa9592d9d9ef6cfe62a71f8c                    cama_mesa_banho   \n",
       "32949  83808703fc0706a22e264b9d75f04a2e             informatica_acessorios   \n",
       "32950  106392145fca363410d287a815be6de4                    cama_mesa_banho   \n",
       "\n",
       "       product_name_lenght  product_description_lenght  product_photos_qty  \\\n",
       "0                     40.0                       287.0                 1.0   \n",
       "1                     44.0                       276.0                 1.0   \n",
       "2                     46.0                       250.0                 1.0   \n",
       "3                     27.0                       261.0                 1.0   \n",
       "4                     37.0                       402.0                 4.0   \n",
       "...                    ...                         ...                 ...   \n",
       "32946                 45.0                        67.0                 2.0   \n",
       "32947                 41.0                       971.0                 1.0   \n",
       "32948                 50.0                       799.0                 1.0   \n",
       "32949                 60.0                       156.0                 2.0   \n",
       "32950                 58.0                       309.0                 1.0   \n",
       "\n",
       "       product_weight_g  product_length_cm  product_height_cm  \\\n",
       "0                 225.0               16.0               10.0   \n",
       "1                1000.0               30.0               18.0   \n",
       "2                 154.0               18.0                9.0   \n",
       "3                 371.0               26.0                4.0   \n",
       "4                 625.0               20.0               17.0   \n",
       "...                 ...                ...                ...   \n",
       "32946           12300.0               40.0               40.0   \n",
       "32947            1700.0               16.0               19.0   \n",
       "32948            1400.0               27.0                7.0   \n",
       "32949             700.0               31.0               13.0   \n",
       "32950            2083.0               12.0                2.0   \n",
       "\n",
       "       product_width_cm  \n",
       "0                  14.0  \n",
       "1                  20.0  \n",
       "2                  15.0  \n",
       "3                  26.0  \n",
       "4                  13.0  \n",
       "...                 ...  \n",
       "32946              40.0  \n",
       "32947              16.0  \n",
       "32948              27.0  \n",
       "32949              20.0  \n",
       "32950               7.0  \n",
       "\n",
       "[32951 rows x 9 columns]"
      ]
     },
     "execution_count": 27,
     "metadata": {},
     "output_type": "execute_result"
    }
   ],
   "source": [
    "df_products.drop_duplicates()"
   ]
  },
  {
   "cell_type": "markdown",
   "id": "8f98980c",
   "metadata": {},
   "source": [
    "### Sellers"
   ]
  },
  {
   "cell_type": "code",
   "execution_count": 32,
   "id": "edfadfb3",
   "metadata": {},
   "outputs": [
    {
     "data": {
      "text/plain": [
       "(3095, 4)"
      ]
     },
     "execution_count": 32,
     "metadata": {},
     "output_type": "execute_result"
    }
   ],
   "source": [
    "df_sellers.shape"
   ]
  },
  {
   "cell_type": "code",
   "execution_count": 29,
   "id": "345618d4",
   "metadata": {},
   "outputs": [
    {
     "data": {
      "text/plain": [
       "seller_id                 object\n",
       "seller_zip_code_prefix     int64\n",
       "seller_city               object\n",
       "seller_state              object\n",
       "dtype: object"
      ]
     },
     "execution_count": 29,
     "metadata": {},
     "output_type": "execute_result"
    }
   ],
   "source": [
    "df_sellers.dtypes"
   ]
  },
  {
   "cell_type": "code",
   "execution_count": 31,
   "id": "688dd3c5",
   "metadata": {},
   "outputs": [
    {
     "data": {
      "application/vnd.microsoft.datawrangler.viewer.v0+json": {
       "columns": [
        {
         "name": "index",
         "rawType": "int64",
         "type": "integer"
        },
        {
         "name": "seller_id",
         "rawType": "object",
         "type": "string"
        },
        {
         "name": "seller_zip_code_prefix",
         "rawType": "int64",
         "type": "integer"
        },
        {
         "name": "seller_city",
         "rawType": "object",
         "type": "string"
        },
        {
         "name": "seller_state",
         "rawType": "object",
         "type": "string"
        }
       ],
       "conversionMethod": "pd.DataFrame",
       "ref": "509abe05-b2c0-4911-84cc-c33d23ed1d2a",
       "rows": [
        [
         "0",
         "3442f8959a84dea7ee197c632cb2df15",
         "13023",
         "campinas",
         "SP"
        ],
        [
         "1",
         "d1b65fc7debc3361ea86b5f14c68d2e2",
         "13844",
         "mogi guacu",
         "SP"
        ],
        [
         "2",
         "ce3ad9de960102d0677a81f5d0bb7b2d",
         "20031",
         "rio de janeiro",
         "RJ"
        ],
        [
         "3",
         "c0f3eea2e14555b6faeea3dd58c1b1c3",
         "4195",
         "sao paulo",
         "SP"
        ],
        [
         "4",
         "51a04a8a6bdcb23deccc82b0b80742cf",
         "12914",
         "braganca paulista",
         "SP"
        ],
        [
         "5",
         "c240c4061717ac1806ae6ee72be3533b",
         "20920",
         "rio de janeiro",
         "RJ"
        ],
        [
         "6",
         "e49c26c3edfa46d227d5121a6b6e4d37",
         "55325",
         "brejao",
         "PE"
        ],
        [
         "7",
         "1b938a7ec6ac5061a66a3766e0e75f90",
         "16304",
         "penapolis",
         "SP"
        ],
        [
         "8",
         "768a86e36ad6aae3d03ee3c6433d61df",
         "1529",
         "sao paulo",
         "SP"
        ],
        [
         "9",
         "ccc4bbb5f32a6ab2b7066a4130f114e3",
         "80310",
         "curitiba",
         "PR"
        ],
        [
         "10",
         "8cb7c5ddf41f4d506eba76e9a4702a25",
         "75110",
         "anapolis",
         "GO"
        ],
        [
         "11",
         "a7a9b880c49781da66651ccf4ba9ac38",
         "13530",
         "itirapina",
         "SP"
        ],
        [
         "12",
         "8bd0f31cf0a614c658f6763bd02dea69",
         "1222",
         "sao paulo",
         "SP"
        ],
        [
         "13",
         "05a48cc8859962767935ab9087417fbb",
         "5372",
         "sao paulo",
         "SP"
        ],
        [
         "14",
         "7b8e8ec35bad4b0ef7e3963650b0a87b",
         "88705",
         "tubarao",
         "SC"
        ],
        [
         "15",
         "1444c08e64d55fb3c25f0f09c07ffcf2",
         "42738",
         "lauro de freitas",
         "BA"
        ],
        [
         "16",
         "166e8f1381e09651983c38b1f6f91c11",
         "88780",
         "imbituba",
         "SC"
        ],
        [
         "17",
         "e38db885400cd35c71dfd162f2c1dbcf",
         "70740",
         "brasilia",
         "DF"
        ],
        [
         "18",
         "d2e753bb80b7d4faa77483ed00edc8ca",
         "45810",
         "porto seguro",
         "BA"
        ],
        [
         "19",
         "f9ec7093df3a7b346b7bcf7864069ca3",
         "5138",
         "sao paulo",
         "SP"
        ],
        [
         "20",
         "4e6015589b781adaa5ce7f1892d06bb1",
         "11440",
         "guaruja",
         "SP"
        ],
        [
         "21",
         "4cf490a58259286ada5ba8525ba9e84a",
         "14910",
         "tabatinga",
         "SP"
        ],
        [
         "22",
         "f7496d659ca9fdaf323c0aae84176632",
         "4156",
         "sao paulo",
         "SP"
        ],
        [
         "23",
         "2ff97219cb8622eaf3cd89b7d9c09824",
         "13320",
         "salto",
         "SP"
        ],
        [
         "24",
         "8bd0e3abda539b9479c4b44a691be1ec",
         "98910",
         "tres de maio",
         "RS"
        ],
        [
         "25",
         "2a1348e9addc1af5aaa619b1a3679d6b",
         "30494",
         "belo horizonte",
         "MG"
        ],
        [
         "26",
         "2078fe5066350e7d220c0ad3a3bbc6c1",
         "86707",
         "arapongas",
         "PR"
        ],
        [
         "27",
         "116ccb1a1604bc88e4d234a8c23f33de",
         "9850",
         "sao bernardo do campo",
         "SP"
        ],
        [
         "28",
         "430315b7bb4b6e4b3c978f9dfa9b0558",
         "4857",
         "sao paulo",
         "SP"
        ],
        [
         "29",
         "406822777a0b9eb5c50e442dd4cd3ec5",
         "18500",
         "tatui",
         "SP"
        ],
        [
         "30",
         "4dbd95a08b31ede5c82d3f861cb1ce1a",
         "80210",
         "curitiba",
         "PR"
        ],
        [
         "31",
         "e9e446d01bd10a97a8ffcfc4a3a20cb2",
         "2261",
         "sao paulo",
         "SP"
        ],
        [
         "32",
         "d52cbce9845184537284a23c3bc3da0e",
         "88495",
         "garopaba",
         "SC"
        ],
        [
         "33",
         "d9a84e1403de8da0c3aa531d6d108ba6",
         "3562",
         "sao paulo",
         "SP"
        ],
        [
         "34",
         "9c690ceacd5c66731bf443ea810195cb",
         "37650",
         "camanducaia",
         "MG"
        ],
        [
         "35",
         "1f9ab4708f3056ede07124aad39a2554",
         "17602",
         "tupa",
         "SP"
        ],
        [
         "36",
         "1961c3e1272bfeceb05d0b78b5bbfdaf",
         "7241",
         "guarulhos",
         "SP"
        ],
        [
         "37",
         "d3e7d37c0df9aef383f3f2a15b0dddfb",
         "83050",
         "sao jose dos pinhais",
         "PR"
        ],
        [
         "38",
         "ec2e006556300a79a5a91e4876ab3a56",
         "3445",
         "sao paulo",
         "SP"
        ],
        [
         "39",
         "b2a6d334e2833acea353624840e25a0e",
         "4133",
         "sao paulo",
         "SP"
        ],
        [
         "40",
         "d3674f271c91f824f82d24d92011f669",
         "72233",
         "brasilia",
         "DF"
        ],
        [
         "41",
         "768de2a4fc06aacecb9a586ccc30746a",
         "70645",
         "brasilia",
         "DF"
        ],
        [
         "42",
         "a81466620e46a6970b22ef40379fdfc9",
         "88730",
         "sao ludgero",
         "SC"
        ],
        [
         "43",
         "5c030029b5916fed0986310385ec9009",
         "88075",
         "sao jose",
         "SC"
        ],
        [
         "44",
         "c0f783394e37cd9c9d7f5f81141450fa",
         "13416",
         "piracicaba",
         "SP"
        ],
        [
         "45",
         "c353f8fc0ce8344999f17d578eb69a5e",
         "90850",
         "porto alegre",
         "RS"
        ],
        [
         "46",
         "8444e55c1f13cd5c179851e5ca5ebd00",
         "37584",
         "congonhal",
         "MG"
        ],
        [
         "47",
         "28a26ebce31d5918b181ede016fd693b",
         "31950",
         "belo horizonte",
         "MG"
        ],
        [
         "48",
         "41ab63a91b8b264e8c8780368bf1dd5b",
         "31555",
         "belo horizonte",
         "MG"
        ],
        [
         "49",
         "8759e7aedd644f487315e5860962f162",
         "9251",
         "santo andre",
         "SP"
        ]
       ],
       "shape": {
        "columns": 4,
        "rows": 3095
       }
      },
      "text/html": [
       "<div>\n",
       "<style scoped>\n",
       "    .dataframe tbody tr th:only-of-type {\n",
       "        vertical-align: middle;\n",
       "    }\n",
       "\n",
       "    .dataframe tbody tr th {\n",
       "        vertical-align: top;\n",
       "    }\n",
       "\n",
       "    .dataframe thead th {\n",
       "        text-align: right;\n",
       "    }\n",
       "</style>\n",
       "<table border=\"1\" class=\"dataframe\">\n",
       "  <thead>\n",
       "    <tr style=\"text-align: right;\">\n",
       "      <th></th>\n",
       "      <th>seller_id</th>\n",
       "      <th>seller_zip_code_prefix</th>\n",
       "      <th>seller_city</th>\n",
       "      <th>seller_state</th>\n",
       "    </tr>\n",
       "  </thead>\n",
       "  <tbody>\n",
       "    <tr>\n",
       "      <th>0</th>\n",
       "      <td>3442f8959a84dea7ee197c632cb2df15</td>\n",
       "      <td>13023</td>\n",
       "      <td>campinas</td>\n",
       "      <td>SP</td>\n",
       "    </tr>\n",
       "    <tr>\n",
       "      <th>1</th>\n",
       "      <td>d1b65fc7debc3361ea86b5f14c68d2e2</td>\n",
       "      <td>13844</td>\n",
       "      <td>mogi guacu</td>\n",
       "      <td>SP</td>\n",
       "    </tr>\n",
       "    <tr>\n",
       "      <th>2</th>\n",
       "      <td>ce3ad9de960102d0677a81f5d0bb7b2d</td>\n",
       "      <td>20031</td>\n",
       "      <td>rio de janeiro</td>\n",
       "      <td>RJ</td>\n",
       "    </tr>\n",
       "    <tr>\n",
       "      <th>3</th>\n",
       "      <td>c0f3eea2e14555b6faeea3dd58c1b1c3</td>\n",
       "      <td>4195</td>\n",
       "      <td>sao paulo</td>\n",
       "      <td>SP</td>\n",
       "    </tr>\n",
       "    <tr>\n",
       "      <th>4</th>\n",
       "      <td>51a04a8a6bdcb23deccc82b0b80742cf</td>\n",
       "      <td>12914</td>\n",
       "      <td>braganca paulista</td>\n",
       "      <td>SP</td>\n",
       "    </tr>\n",
       "    <tr>\n",
       "      <th>...</th>\n",
       "      <td>...</td>\n",
       "      <td>...</td>\n",
       "      <td>...</td>\n",
       "      <td>...</td>\n",
       "    </tr>\n",
       "    <tr>\n",
       "      <th>3090</th>\n",
       "      <td>98dddbc4601dd4443ca174359b237166</td>\n",
       "      <td>87111</td>\n",
       "      <td>sarandi</td>\n",
       "      <td>PR</td>\n",
       "    </tr>\n",
       "    <tr>\n",
       "      <th>3091</th>\n",
       "      <td>f8201cab383e484733266d1906e2fdfa</td>\n",
       "      <td>88137</td>\n",
       "      <td>palhoca</td>\n",
       "      <td>SC</td>\n",
       "    </tr>\n",
       "    <tr>\n",
       "      <th>3092</th>\n",
       "      <td>74871d19219c7d518d0090283e03c137</td>\n",
       "      <td>4650</td>\n",
       "      <td>sao paulo</td>\n",
       "      <td>SP</td>\n",
       "    </tr>\n",
       "    <tr>\n",
       "      <th>3093</th>\n",
       "      <td>e603cf3fec55f8697c9059638d6c8eb5</td>\n",
       "      <td>96080</td>\n",
       "      <td>pelotas</td>\n",
       "      <td>RS</td>\n",
       "    </tr>\n",
       "    <tr>\n",
       "      <th>3094</th>\n",
       "      <td>9e25199f6ef7e7c347120ff175652c3b</td>\n",
       "      <td>12051</td>\n",
       "      <td>taubate</td>\n",
       "      <td>SP</td>\n",
       "    </tr>\n",
       "  </tbody>\n",
       "</table>\n",
       "<p>3095 rows × 4 columns</p>\n",
       "</div>"
      ],
      "text/plain": [
       "                             seller_id  seller_zip_code_prefix  \\\n",
       "0     3442f8959a84dea7ee197c632cb2df15                   13023   \n",
       "1     d1b65fc7debc3361ea86b5f14c68d2e2                   13844   \n",
       "2     ce3ad9de960102d0677a81f5d0bb7b2d                   20031   \n",
       "3     c0f3eea2e14555b6faeea3dd58c1b1c3                    4195   \n",
       "4     51a04a8a6bdcb23deccc82b0b80742cf                   12914   \n",
       "...                                ...                     ...   \n",
       "3090  98dddbc4601dd4443ca174359b237166                   87111   \n",
       "3091  f8201cab383e484733266d1906e2fdfa                   88137   \n",
       "3092  74871d19219c7d518d0090283e03c137                    4650   \n",
       "3093  e603cf3fec55f8697c9059638d6c8eb5                   96080   \n",
       "3094  9e25199f6ef7e7c347120ff175652c3b                   12051   \n",
       "\n",
       "            seller_city seller_state  \n",
       "0              campinas           SP  \n",
       "1            mogi guacu           SP  \n",
       "2        rio de janeiro           RJ  \n",
       "3             sao paulo           SP  \n",
       "4     braganca paulista           SP  \n",
       "...                 ...          ...  \n",
       "3090            sarandi           PR  \n",
       "3091            palhoca           SC  \n",
       "3092          sao paulo           SP  \n",
       "3093            pelotas           RS  \n",
       "3094            taubate           SP  \n",
       "\n",
       "[3095 rows x 4 columns]"
      ]
     },
     "execution_count": 31,
     "metadata": {},
     "output_type": "execute_result"
    }
   ],
   "source": [
    "df_sellers.drop_duplicates()"
   ]
  },
  {
   "cell_type": "markdown",
   "id": "4e009ade",
   "metadata": {},
   "source": [
    "### Payments"
   ]
  },
  {
   "cell_type": "code",
   "execution_count": 37,
   "id": "a93fd461",
   "metadata": {},
   "outputs": [],
   "source": [
    "df_payments = df_payments.drop_duplicates()"
   ]
  },
  {
   "cell_type": "code",
   "execution_count": 39,
   "id": "584badb1",
   "metadata": {},
   "outputs": [
    {
     "data": {
      "text/plain": [
       "(103886, 5)"
      ]
     },
     "execution_count": 39,
     "metadata": {},
     "output_type": "execute_result"
    }
   ],
   "source": [
    "df_payments.shape"
   ]
  },
  {
   "cell_type": "code",
   "execution_count": 33,
   "id": "7a8240c9",
   "metadata": {},
   "outputs": [
    {
     "data": {
      "text/plain": [
       "order_id                 object\n",
       "payment_sequential        int64\n",
       "payment_type             object\n",
       "payment_installments      int64\n",
       "payment_value           float64\n",
       "dtype: object"
      ]
     },
     "execution_count": 33,
     "metadata": {},
     "output_type": "execute_result"
    }
   ],
   "source": [
    "df_payments.dtypes"
   ]
  },
  {
   "cell_type": "markdown",
   "id": "bb6c7b81",
   "metadata": {},
   "source": [
    "### customers"
   ]
  },
  {
   "cell_type": "code",
   "execution_count": 40,
   "id": "2598ec54",
   "metadata": {},
   "outputs": [
    {
     "data": {
      "text/plain": [
       "customer_id                 object\n",
       "customer_unique_id          object\n",
       "customer_zip_code_prefix     int64\n",
       "customer_city               object\n",
       "customer_state              object\n",
       "dtype: object"
      ]
     },
     "execution_count": 40,
     "metadata": {},
     "output_type": "execute_result"
    }
   ],
   "source": [
    "df_customers.dtypes"
   ]
  },
  {
   "cell_type": "markdown",
   "id": "ab08f3bf",
   "metadata": {},
   "source": [
    "### Categoria\n"
   ]
  },
  {
   "cell_type": "code",
   "execution_count": 41,
   "id": "9c5d0864",
   "metadata": {},
   "outputs": [
    {
     "data": {
      "text/plain": [
       "product_category_name            object\n",
       "product_category_name_english    object\n",
       "dtype: object"
      ]
     },
     "execution_count": 41,
     "metadata": {},
     "output_type": "execute_result"
    }
   ],
   "source": [
    "df_category.dtypes"
   ]
  },
  {
   "cell_type": "markdown",
   "id": "7df07728",
   "metadata": {},
   "source": [
    "### Final"
   ]
  },
  {
   "cell_type": "code",
   "execution_count": 51,
   "id": "54ab2972",
   "metadata": {},
   "outputs": [
    {
     "data": {
      "text/plain": [
       "review_id                          object\n",
       "order_id                           object\n",
       "review_score                        int64\n",
       "review_comment_title               object\n",
       "review_comment_message             object\n",
       "review_creation_date       datetime64[ns]\n",
       "review_answer_timestamp    datetime64[ns]\n",
       "review_score_classific             object\n",
       "sentimento                         object\n",
       "dtype: object"
      ]
     },
     "execution_count": 51,
     "metadata": {},
     "output_type": "execute_result"
    }
   ],
   "source": [
    "df_reviews.dtypes"
   ]
  },
  {
   "cell_type": "code",
   "execution_count": 50,
   "id": "c1bf2e41",
   "metadata": {},
   "outputs": [
    {
     "data": {
      "application/vnd.microsoft.datawrangler.viewer.v0+json": {
       "columns": [
        {
         "name": "index",
         "rawType": "int64",
         "type": "integer"
        },
        {
         "name": "geolocation_zip_code_prefix",
         "rawType": "int64",
         "type": "integer"
        },
        {
         "name": "geolocation_lat",
         "rawType": "float64",
         "type": "float"
        },
        {
         "name": "geolocation_lng",
         "rawType": "float64",
         "type": "float"
        },
        {
         "name": "geolocation_city",
         "rawType": "object",
         "type": "string"
        },
        {
         "name": "geolocation_state",
         "rawType": "object",
         "type": "string"
        }
       ],
       "conversionMethod": "pd.DataFrame",
       "ref": "21a3175e-f146-4327-8014-ffed9c99ef94",
       "rows": [
        [
         "0",
         "1037",
         "-23.54562128115268",
         "-46.63929204800168",
         "sao paulo",
         "SP"
        ],
        [
         "1",
         "1046",
         "-23.54608112703553",
         "-46.64482029837157",
         "sao paulo",
         "SP"
        ],
        [
         "2",
         "1046",
         "-23.54612896641469",
         "-46.64295148361138",
         "sao paulo",
         "SP"
        ],
        [
         "3",
         "1041",
         "-23.5443921648681",
         "-46.63949930627844",
         "sao paulo",
         "SP"
        ],
        [
         "4",
         "1035",
         "-23.541577961711493",
         "-46.64160722329613",
         "sao paulo",
         "SP"
        ],
        [
         "5",
         "1012",
         "-23.547762303364262",
         "-46.63536053788448",
         "são paulo",
         "SP"
        ],
        [
         "6",
         "1047",
         "-23.54627311241268",
         "-46.64122516971552",
         "sao paulo",
         "SP"
        ],
        [
         "7",
         "1013",
         "-23.546923208436723",
         "-46.6342636964915",
         "sao paulo",
         "SP"
        ],
        [
         "8",
         "1029",
         "-23.543769055769133",
         "-46.63427784085132",
         "sao paulo",
         "SP"
        ],
        [
         "9",
         "1011",
         "-23.547639550320632",
         "-46.63603162315495",
         "sao paulo",
         "SP"
        ],
        [
         "10",
         "1013",
         "-23.547325128224376",
         "-46.63418378613892",
         "sao paulo",
         "SP"
        ],
        [
         "11",
         "1032",
         "-23.53841810407414",
         "-46.634778375266734",
         "sao paulo",
         "SP"
        ],
        [
         "12",
         "1014",
         "-23.546435343326205",
         "-46.63383023397196",
         "sao paulo",
         "SP"
        ],
        [
         "13",
         "1012",
         "-23.548945985189437",
         "-46.63467113292871",
         "sao paulo",
         "SP"
        ],
        [
         "14",
         "1037",
         "-23.54518734081604",
         "-46.63785524104107",
         "são paulo",
         "SP"
        ],
        [
         "15",
         "1046",
         "-23.54608112703553",
         "-46.64482029837157",
         "sao paulo",
         "SP"
        ],
        [
         "16",
         "1039",
         "-23.54188300998332",
         "-46.63991946670314",
         "sao paulo",
         "SP"
        ],
        [
         "17",
         "1024",
         "-23.541389521053937",
         "-46.62989908781218",
         "são paulo",
         "SP"
        ],
        [
         "18",
         "1009",
         "-23.54693540437998",
         "-46.63658792659698",
         "sao paulo",
         "SP"
        ],
        [
         "19",
         "1046",
         "-23.54588427921401",
         "-46.64316319124004",
         "sao paulo",
         "SP"
        ],
        [
         "20",
         "1046",
         "-23.545165891770928",
         "-46.643785796266464",
         "sao paulo",
         "SP"
        ],
        [
         "21",
         "1020",
         "-23.55223547100232",
         "-46.6284406588955",
         "são paulo",
         "SP"
        ],
        [
         "22",
         "1011",
         "-23.546690486964888",
         "-46.6354469588072",
         "são paulo",
         "SP"
        ],
        [
         "23",
         "1043",
         "-23.546656718016017",
         "-46.64078762115524",
         "são paulo",
         "SP"
        ],
        [
         "24",
         "1050",
         "-23.549773516504185",
         "-46.64559900666509",
         "sao paulo",
         "SP"
        ],
        [
         "25",
         "1045",
         "-23.541593762969622",
         "-46.64189378810082",
         "sao paulo",
         "SP"
        ],
        [
         "26",
         "1009",
         "-23.545429533441077",
         "-46.63571531432852",
         "sao paulo",
         "SP"
        ],
        [
         "27",
         "1007",
         "-23.550392524842728",
         "-46.63730164071784",
         "sao paulo",
         "SP"
        ],
        [
         "28",
         "1032",
         "-23.5398418758395",
         "-46.63514797691531",
         "são paulo",
         "SP"
        ],
        [
         "29",
         "1041",
         "-23.543539449073783",
         "-46.64057731057763",
         "sao paulo",
         "SP"
        ],
        [
         "30",
         "1005",
         "-23.549819091869107",
         "-46.63560588995324",
         "sao paulo",
         "SP"
        ],
        [
         "31",
         "1037",
         "-23.54670459977496",
         "-46.64033633250615",
         "são paulo",
         "SP"
        ],
        [
         "32",
         "1017",
         "-23.55001091199737",
         "-46.63116636914989",
         "são paulo",
         "SP"
        ],
        [
         "33",
         "1046",
         "-23.54532011933758",
         "-46.64406863434122",
         "sao paulo",
         "SP"
        ],
        [
         "34",
         "1019",
         "-23.552151883432384",
         "-46.63080224715792",
         "sao paulo",
         "SP"
        ],
        [
         "35",
         "1032",
         "-23.540774688874112",
         "-46.63551484303775",
         "sao paulo",
         "SP"
        ],
        [
         "36",
         "1017",
         "-23.5492954052167",
         "-46.63207469510652",
         "sao paulo",
         "SP"
        ],
        [
         "37",
         "1050",
         "-23.549009406053425",
         "-46.64281228183975",
         "sao paulo",
         "SP"
        ],
        [
         "38",
         "1050",
         "-23.548755593946588",
         "-46.642789203733535",
         "sao paulo",
         "SP"
        ],
        [
         "39",
         "1027",
         "-23.538301166801343",
         "-46.63076391104508",
         "sao paulo",
         "SP"
        ],
        [
         "40",
         "1050",
         "-23.54985418067981",
         "-46.643139396906825",
         "sao paulo",
         "SP"
        ],
        [
         "41",
         "1013",
         "-23.5471192492354",
         "-46.634232699405686",
         "sao paulo",
         "SP"
        ],
        [
         "42",
         "1033",
         "-23.54032130474925",
         "-46.636394815973325",
         "sao paulo",
         "SP"
        ],
        [
         "43",
         "1009",
         "-23.54569153926945",
         "-46.635866061486446",
         "sao paulo",
         "SP"
        ],
        [
         "44",
         "1046",
         "-23.54608112703553",
         "-46.64482029837157",
         "sao paulo",
         "SP"
        ],
        [
         "45",
         "1050",
         "-23.54874766250217",
         "-46.64239136704376",
         "sao paulo",
         "SP"
        ],
        [
         "46",
         "1032",
         "-23.54119147654225",
         "-46.63499346058632",
         "sao paulo",
         "SP"
        ],
        [
         "47",
         "1020",
         "-23.552549496537548",
         "-46.63163152553523",
         "sao paulo",
         "SP"
        ],
        [
         "48",
         "1006",
         "-23.55052430835593",
         "-46.63669363835193",
         "sao paulo",
         "SP"
        ],
        [
         "49",
         "1034",
         "-23.54239162719593",
         "-46.63770927785183",
         "sao paulo",
         "SP"
        ]
       ],
       "shape": {
        "columns": 5,
        "rows": 1000163
       }
      },
      "text/html": [
       "<div>\n",
       "<style scoped>\n",
       "    .dataframe tbody tr th:only-of-type {\n",
       "        vertical-align: middle;\n",
       "    }\n",
       "\n",
       "    .dataframe tbody tr th {\n",
       "        vertical-align: top;\n",
       "    }\n",
       "\n",
       "    .dataframe thead th {\n",
       "        text-align: right;\n",
       "    }\n",
       "</style>\n",
       "<table border=\"1\" class=\"dataframe\">\n",
       "  <thead>\n",
       "    <tr style=\"text-align: right;\">\n",
       "      <th></th>\n",
       "      <th>geolocation_zip_code_prefix</th>\n",
       "      <th>geolocation_lat</th>\n",
       "      <th>geolocation_lng</th>\n",
       "      <th>geolocation_city</th>\n",
       "      <th>geolocation_state</th>\n",
       "    </tr>\n",
       "  </thead>\n",
       "  <tbody>\n",
       "    <tr>\n",
       "      <th>0</th>\n",
       "      <td>1037</td>\n",
       "      <td>-23.545621</td>\n",
       "      <td>-46.639292</td>\n",
       "      <td>sao paulo</td>\n",
       "      <td>SP</td>\n",
       "    </tr>\n",
       "    <tr>\n",
       "      <th>1</th>\n",
       "      <td>1046</td>\n",
       "      <td>-23.546081</td>\n",
       "      <td>-46.644820</td>\n",
       "      <td>sao paulo</td>\n",
       "      <td>SP</td>\n",
       "    </tr>\n",
       "    <tr>\n",
       "      <th>2</th>\n",
       "      <td>1046</td>\n",
       "      <td>-23.546129</td>\n",
       "      <td>-46.642951</td>\n",
       "      <td>sao paulo</td>\n",
       "      <td>SP</td>\n",
       "    </tr>\n",
       "    <tr>\n",
       "      <th>3</th>\n",
       "      <td>1041</td>\n",
       "      <td>-23.544392</td>\n",
       "      <td>-46.639499</td>\n",
       "      <td>sao paulo</td>\n",
       "      <td>SP</td>\n",
       "    </tr>\n",
       "    <tr>\n",
       "      <th>4</th>\n",
       "      <td>1035</td>\n",
       "      <td>-23.541578</td>\n",
       "      <td>-46.641607</td>\n",
       "      <td>sao paulo</td>\n",
       "      <td>SP</td>\n",
       "    </tr>\n",
       "    <tr>\n",
       "      <th>...</th>\n",
       "      <td>...</td>\n",
       "      <td>...</td>\n",
       "      <td>...</td>\n",
       "      <td>...</td>\n",
       "      <td>...</td>\n",
       "    </tr>\n",
       "    <tr>\n",
       "      <th>1000158</th>\n",
       "      <td>99950</td>\n",
       "      <td>-28.068639</td>\n",
       "      <td>-52.010705</td>\n",
       "      <td>tapejara</td>\n",
       "      <td>RS</td>\n",
       "    </tr>\n",
       "    <tr>\n",
       "      <th>1000159</th>\n",
       "      <td>99900</td>\n",
       "      <td>-27.877125</td>\n",
       "      <td>-52.224882</td>\n",
       "      <td>getulio vargas</td>\n",
       "      <td>RS</td>\n",
       "    </tr>\n",
       "    <tr>\n",
       "      <th>1000160</th>\n",
       "      <td>99950</td>\n",
       "      <td>-28.071855</td>\n",
       "      <td>-52.014716</td>\n",
       "      <td>tapejara</td>\n",
       "      <td>RS</td>\n",
       "    </tr>\n",
       "    <tr>\n",
       "      <th>1000161</th>\n",
       "      <td>99980</td>\n",
       "      <td>-28.388932</td>\n",
       "      <td>-51.846871</td>\n",
       "      <td>david canabarro</td>\n",
       "      <td>RS</td>\n",
       "    </tr>\n",
       "    <tr>\n",
       "      <th>1000162</th>\n",
       "      <td>99950</td>\n",
       "      <td>-28.070104</td>\n",
       "      <td>-52.018658</td>\n",
       "      <td>tapejara</td>\n",
       "      <td>RS</td>\n",
       "    </tr>\n",
       "  </tbody>\n",
       "</table>\n",
       "<p>1000163 rows × 5 columns</p>\n",
       "</div>"
      ],
      "text/plain": [
       "         geolocation_zip_code_prefix  geolocation_lat  geolocation_lng  \\\n",
       "0                               1037       -23.545621       -46.639292   \n",
       "1                               1046       -23.546081       -46.644820   \n",
       "2                               1046       -23.546129       -46.642951   \n",
       "3                               1041       -23.544392       -46.639499   \n",
       "4                               1035       -23.541578       -46.641607   \n",
       "...                              ...              ...              ...   \n",
       "1000158                        99950       -28.068639       -52.010705   \n",
       "1000159                        99900       -27.877125       -52.224882   \n",
       "1000160                        99950       -28.071855       -52.014716   \n",
       "1000161                        99980       -28.388932       -51.846871   \n",
       "1000162                        99950       -28.070104       -52.018658   \n",
       "\n",
       "        geolocation_city geolocation_state  \n",
       "0              sao paulo                SP  \n",
       "1              sao paulo                SP  \n",
       "2              sao paulo                SP  \n",
       "3              sao paulo                SP  \n",
       "4              sao paulo                SP  \n",
       "...                  ...               ...  \n",
       "1000158         tapejara                RS  \n",
       "1000159   getulio vargas                RS  \n",
       "1000160         tapejara                RS  \n",
       "1000161  david canabarro                RS  \n",
       "1000162         tapejara                RS  \n",
       "\n",
       "[1000163 rows x 5 columns]"
      ]
     },
     "execution_count": 50,
     "metadata": {},
     "output_type": "execute_result"
    }
   ],
   "source": [
    "df_reviews\n",
    "df_refiews_final = df_ava_not_null_and_not_neutral\n",
    "df_orders\n",
    "df_products\n",
    "df_geolocation"
   ]
  },
  {
   "cell_type": "code",
   "execution_count": 28,
   "id": "44b3ca36",
   "metadata": {},
   "outputs": [
    {
     "data": {
      "application/vnd.microsoft.datawrangler.viewer.v0+json": {
       "columns": [
        {
         "name": "index",
         "rawType": "int64",
         "type": "integer"
        },
        {
         "name": "geolocation_zip_code_prefix",
         "rawType": "int64",
         "type": "integer"
        },
        {
         "name": "geolocation_lat",
         "rawType": "float64",
         "type": "float"
        },
        {
         "name": "geolocation_lng",
         "rawType": "float64",
         "type": "float"
        },
        {
         "name": "geolocation_city",
         "rawType": "object",
         "type": "string"
        },
        {
         "name": "geolocation_state",
         "rawType": "object",
         "type": "string"
        }
       ],
       "conversionMethod": "pd.DataFrame",
       "ref": "75b203fd-f301-4dd6-8e10-cabbf8d9d3b5",
       "rows": [
        [
         "0",
         "1037",
         "-23.54562128115268",
         "-46.63929204800168",
         "sao paulo",
         "SP"
        ],
        [
         "1",
         "1046",
         "-23.54608112703553",
         "-46.64482029837157",
         "sao paulo",
         "SP"
        ],
        [
         "2",
         "1046",
         "-23.54612896641469",
         "-46.64295148361138",
         "sao paulo",
         "SP"
        ],
        [
         "3",
         "1041",
         "-23.5443921648681",
         "-46.63949930627844",
         "sao paulo",
         "SP"
        ],
        [
         "4",
         "1035",
         "-23.541577961711493",
         "-46.64160722329613",
         "sao paulo",
         "SP"
        ],
        [
         "5",
         "1012",
         "-23.547762303364262",
         "-46.63536053788448",
         "são paulo",
         "SP"
        ],
        [
         "6",
         "1047",
         "-23.54627311241268",
         "-46.64122516971552",
         "sao paulo",
         "SP"
        ],
        [
         "7",
         "1013",
         "-23.546923208436723",
         "-46.6342636964915",
         "sao paulo",
         "SP"
        ],
        [
         "8",
         "1029",
         "-23.543769055769133",
         "-46.63427784085132",
         "sao paulo",
         "SP"
        ],
        [
         "9",
         "1011",
         "-23.547639550320632",
         "-46.63603162315495",
         "sao paulo",
         "SP"
        ],
        [
         "10",
         "1013",
         "-23.547325128224376",
         "-46.63418378613892",
         "sao paulo",
         "SP"
        ],
        [
         "11",
         "1032",
         "-23.53841810407414",
         "-46.634778375266734",
         "sao paulo",
         "SP"
        ],
        [
         "12",
         "1014",
         "-23.546435343326205",
         "-46.63383023397196",
         "sao paulo",
         "SP"
        ],
        [
         "13",
         "1012",
         "-23.548945985189437",
         "-46.63467113292871",
         "sao paulo",
         "SP"
        ],
        [
         "14",
         "1037",
         "-23.54518734081604",
         "-46.63785524104107",
         "são paulo",
         "SP"
        ],
        [
         "15",
         "1046",
         "-23.54608112703553",
         "-46.64482029837157",
         "sao paulo",
         "SP"
        ],
        [
         "16",
         "1039",
         "-23.54188300998332",
         "-46.63991946670314",
         "sao paulo",
         "SP"
        ],
        [
         "17",
         "1024",
         "-23.541389521053937",
         "-46.62989908781218",
         "são paulo",
         "SP"
        ],
        [
         "18",
         "1009",
         "-23.54693540437998",
         "-46.63658792659698",
         "sao paulo",
         "SP"
        ],
        [
         "19",
         "1046",
         "-23.54588427921401",
         "-46.64316319124004",
         "sao paulo",
         "SP"
        ],
        [
         "20",
         "1046",
         "-23.545165891770928",
         "-46.643785796266464",
         "sao paulo",
         "SP"
        ],
        [
         "21",
         "1020",
         "-23.55223547100232",
         "-46.6284406588955",
         "são paulo",
         "SP"
        ],
        [
         "22",
         "1011",
         "-23.546690486964888",
         "-46.6354469588072",
         "são paulo",
         "SP"
        ],
        [
         "23",
         "1043",
         "-23.546656718016017",
         "-46.64078762115524",
         "são paulo",
         "SP"
        ],
        [
         "24",
         "1050",
         "-23.549773516504185",
         "-46.64559900666509",
         "sao paulo",
         "SP"
        ],
        [
         "25",
         "1045",
         "-23.541593762969622",
         "-46.64189378810082",
         "sao paulo",
         "SP"
        ],
        [
         "26",
         "1009",
         "-23.545429533441077",
         "-46.63571531432852",
         "sao paulo",
         "SP"
        ],
        [
         "27",
         "1007",
         "-23.550392524842728",
         "-46.63730164071784",
         "sao paulo",
         "SP"
        ],
        [
         "28",
         "1032",
         "-23.5398418758395",
         "-46.63514797691531",
         "são paulo",
         "SP"
        ],
        [
         "29",
         "1041",
         "-23.543539449073783",
         "-46.64057731057763",
         "sao paulo",
         "SP"
        ],
        [
         "30",
         "1005",
         "-23.549819091869107",
         "-46.63560588995324",
         "sao paulo",
         "SP"
        ],
        [
         "31",
         "1037",
         "-23.54670459977496",
         "-46.64033633250615",
         "são paulo",
         "SP"
        ],
        [
         "32",
         "1017",
         "-23.55001091199737",
         "-46.63116636914989",
         "são paulo",
         "SP"
        ],
        [
         "33",
         "1046",
         "-23.54532011933758",
         "-46.64406863434122",
         "sao paulo",
         "SP"
        ],
        [
         "34",
         "1019",
         "-23.552151883432384",
         "-46.63080224715792",
         "sao paulo",
         "SP"
        ],
        [
         "35",
         "1032",
         "-23.540774688874112",
         "-46.63551484303775",
         "sao paulo",
         "SP"
        ],
        [
         "36",
         "1017",
         "-23.5492954052167",
         "-46.63207469510652",
         "sao paulo",
         "SP"
        ],
        [
         "37",
         "1050",
         "-23.549009406053425",
         "-46.64281228183975",
         "sao paulo",
         "SP"
        ],
        [
         "38",
         "1050",
         "-23.548755593946588",
         "-46.642789203733535",
         "sao paulo",
         "SP"
        ],
        [
         "39",
         "1027",
         "-23.538301166801343",
         "-46.63076391104508",
         "sao paulo",
         "SP"
        ],
        [
         "40",
         "1050",
         "-23.54985418067981",
         "-46.643139396906825",
         "sao paulo",
         "SP"
        ],
        [
         "41",
         "1013",
         "-23.5471192492354",
         "-46.634232699405686",
         "sao paulo",
         "SP"
        ],
        [
         "42",
         "1033",
         "-23.54032130474925",
         "-46.636394815973325",
         "sao paulo",
         "SP"
        ],
        [
         "43",
         "1009",
         "-23.54569153926945",
         "-46.635866061486446",
         "sao paulo",
         "SP"
        ],
        [
         "44",
         "1046",
         "-23.54608112703553",
         "-46.64482029837157",
         "sao paulo",
         "SP"
        ],
        [
         "45",
         "1050",
         "-23.54874766250217",
         "-46.64239136704376",
         "sao paulo",
         "SP"
        ],
        [
         "46",
         "1032",
         "-23.54119147654225",
         "-46.63499346058632",
         "sao paulo",
         "SP"
        ],
        [
         "47",
         "1020",
         "-23.552549496537548",
         "-46.63163152553523",
         "sao paulo",
         "SP"
        ],
        [
         "48",
         "1006",
         "-23.55052430835593",
         "-46.63669363835193",
         "sao paulo",
         "SP"
        ],
        [
         "49",
         "1034",
         "-23.54239162719593",
         "-46.63770927785183",
         "sao paulo",
         "SP"
        ]
       ],
       "shape": {
        "columns": 5,
        "rows": 1000163
       }
      },
      "text/html": [
       "<div>\n",
       "<style scoped>\n",
       "    .dataframe tbody tr th:only-of-type {\n",
       "        vertical-align: middle;\n",
       "    }\n",
       "\n",
       "    .dataframe tbody tr th {\n",
       "        vertical-align: top;\n",
       "    }\n",
       "\n",
       "    .dataframe thead th {\n",
       "        text-align: right;\n",
       "    }\n",
       "</style>\n",
       "<table border=\"1\" class=\"dataframe\">\n",
       "  <thead>\n",
       "    <tr style=\"text-align: right;\">\n",
       "      <th></th>\n",
       "      <th>geolocation_zip_code_prefix</th>\n",
       "      <th>geolocation_lat</th>\n",
       "      <th>geolocation_lng</th>\n",
       "      <th>geolocation_city</th>\n",
       "      <th>geolocation_state</th>\n",
       "    </tr>\n",
       "  </thead>\n",
       "  <tbody>\n",
       "    <tr>\n",
       "      <th>0</th>\n",
       "      <td>1037</td>\n",
       "      <td>-23.545621</td>\n",
       "      <td>-46.639292</td>\n",
       "      <td>sao paulo</td>\n",
       "      <td>SP</td>\n",
       "    </tr>\n",
       "    <tr>\n",
       "      <th>1</th>\n",
       "      <td>1046</td>\n",
       "      <td>-23.546081</td>\n",
       "      <td>-46.644820</td>\n",
       "      <td>sao paulo</td>\n",
       "      <td>SP</td>\n",
       "    </tr>\n",
       "    <tr>\n",
       "      <th>2</th>\n",
       "      <td>1046</td>\n",
       "      <td>-23.546129</td>\n",
       "      <td>-46.642951</td>\n",
       "      <td>sao paulo</td>\n",
       "      <td>SP</td>\n",
       "    </tr>\n",
       "    <tr>\n",
       "      <th>3</th>\n",
       "      <td>1041</td>\n",
       "      <td>-23.544392</td>\n",
       "      <td>-46.639499</td>\n",
       "      <td>sao paulo</td>\n",
       "      <td>SP</td>\n",
       "    </tr>\n",
       "    <tr>\n",
       "      <th>4</th>\n",
       "      <td>1035</td>\n",
       "      <td>-23.541578</td>\n",
       "      <td>-46.641607</td>\n",
       "      <td>sao paulo</td>\n",
       "      <td>SP</td>\n",
       "    </tr>\n",
       "    <tr>\n",
       "      <th>...</th>\n",
       "      <td>...</td>\n",
       "      <td>...</td>\n",
       "      <td>...</td>\n",
       "      <td>...</td>\n",
       "      <td>...</td>\n",
       "    </tr>\n",
       "    <tr>\n",
       "      <th>1000158</th>\n",
       "      <td>99950</td>\n",
       "      <td>-28.068639</td>\n",
       "      <td>-52.010705</td>\n",
       "      <td>tapejara</td>\n",
       "      <td>RS</td>\n",
       "    </tr>\n",
       "    <tr>\n",
       "      <th>1000159</th>\n",
       "      <td>99900</td>\n",
       "      <td>-27.877125</td>\n",
       "      <td>-52.224882</td>\n",
       "      <td>getulio vargas</td>\n",
       "      <td>RS</td>\n",
       "    </tr>\n",
       "    <tr>\n",
       "      <th>1000160</th>\n",
       "      <td>99950</td>\n",
       "      <td>-28.071855</td>\n",
       "      <td>-52.014716</td>\n",
       "      <td>tapejara</td>\n",
       "      <td>RS</td>\n",
       "    </tr>\n",
       "    <tr>\n",
       "      <th>1000161</th>\n",
       "      <td>99980</td>\n",
       "      <td>-28.388932</td>\n",
       "      <td>-51.846871</td>\n",
       "      <td>david canabarro</td>\n",
       "      <td>RS</td>\n",
       "    </tr>\n",
       "    <tr>\n",
       "      <th>1000162</th>\n",
       "      <td>99950</td>\n",
       "      <td>-28.070104</td>\n",
       "      <td>-52.018658</td>\n",
       "      <td>tapejara</td>\n",
       "      <td>RS</td>\n",
       "    </tr>\n",
       "  </tbody>\n",
       "</table>\n",
       "<p>1000163 rows × 5 columns</p>\n",
       "</div>"
      ],
      "text/plain": [
       "         geolocation_zip_code_prefix  geolocation_lat  geolocation_lng  \\\n",
       "0                               1037       -23.545621       -46.639292   \n",
       "1                               1046       -23.546081       -46.644820   \n",
       "2                               1046       -23.546129       -46.642951   \n",
       "3                               1041       -23.544392       -46.639499   \n",
       "4                               1035       -23.541578       -46.641607   \n",
       "...                              ...              ...              ...   \n",
       "1000158                        99950       -28.068639       -52.010705   \n",
       "1000159                        99900       -27.877125       -52.224882   \n",
       "1000160                        99950       -28.071855       -52.014716   \n",
       "1000161                        99980       -28.388932       -51.846871   \n",
       "1000162                        99950       -28.070104       -52.018658   \n",
       "\n",
       "        geolocation_city geolocation_state  \n",
       "0              sao paulo                SP  \n",
       "1              sao paulo                SP  \n",
       "2              sao paulo                SP  \n",
       "3              sao paulo                SP  \n",
       "4              sao paulo                SP  \n",
       "...                  ...               ...  \n",
       "1000158         tapejara                RS  \n",
       "1000159   getulio vargas                RS  \n",
       "1000160         tapejara                RS  \n",
       "1000161  david canabarro                RS  \n",
       "1000162         tapejara                RS  \n",
       "\n",
       "[1000163 rows x 5 columns]"
      ]
     },
     "execution_count": 28,
     "metadata": {},
     "output_type": "execute_result"
    }
   ],
   "source": [
    "df_geolocation"
   ]
  },
  {
   "cell_type": "code",
   "execution_count": 9,
   "id": "2347e632",
   "metadata": {},
   "outputs": [],
   "source": [
    "def max_digitos_float(df, coluna):\n",
    "    \"\"\"\n",
    "    Retorna o número máximo de dígitos antes e depois da vírgula\n",
    "    de uma coluna float de um DataFrame.\n",
    "    \"\"\"\n",
    "    # Remove nulos e converte para string\n",
    "    col_str = df[coluna].dropna().map(lambda x: format(x, 'f'))\n",
    "\n",
    "    # Separa parte inteira e decimal\n",
    "    partes = col_str.str.split('.', expand=True)\n",
    "\n",
    "    # Máximo de dígitos antes e depois da vírgula\n",
    "    max_inteira = partes[0].str.len().astype(int).max()\n",
    "    max_decimal = (\n",
    "        partes[1].str.rstrip('0').str.len().astype(int).max()\n",
    "        if 1 in partes.columns else 0\n",
    "    )\n",
    "\n",
    "    return f\"({max_inteira}, {max_decimal})\""
   ]
  },
  {
   "cell_type": "code",
   "execution_count": 10,
   "id": "1c0a40c6",
   "metadata": {},
   "outputs": [],
   "source": [
    "def max_digitos_str(df, coluna):\n",
    "    aux = df[coluna].astype(str).str.len().max()\n",
    "\n",
    "    return f'({aux})'"
   ]
  },
  {
   "cell_type": "code",
   "execution_count": 11,
   "id": "df3a8f36",
   "metadata": {},
   "outputs": [
    {
     "data": {
      "text/plain": [
       "'(1)'"
      ]
     },
     "execution_count": 11,
     "metadata": {},
     "output_type": "execute_result"
    }
   ],
   "source": [
    "max_digitos_str(test, \"order_item_id\")"
   ]
  },
  {
   "cell_type": "code",
   "execution_count": 12,
   "id": "794e26e3",
   "metadata": {},
   "outputs": [
    {
     "data": {
      "text/plain": [
       "'(3, 2)'"
      ]
     },
     "execution_count": 12,
     "metadata": {},
     "output_type": "execute_result"
    }
   ],
   "source": [
    "max_digitos_float(test, \"price\")"
   ]
  },
  {
   "cell_type": "code",
   "execution_count": 13,
   "id": "f2b7ff3e",
   "metadata": {},
   "outputs": [
    {
     "data": {
      "text/plain": [
       "'order_id'"
      ]
     },
     "execution_count": 13,
     "metadata": {},
     "output_type": "execute_result"
    }
   ],
   "source": [
    "test.columns[0]"
   ]
  },
  {
   "cell_type": "code",
   "execution_count": 14,
   "id": "c4b70655",
   "metadata": {},
   "outputs": [],
   "source": [
    "tamanho_max_order_id = df_items['order_id'].astype(str).str.len().max()\n",
    "tamanho_max_order_item_id = df_items['order_id'].astype(str).str.len().max()\n",
    "tamanho_max_order_product_id = df_items['order_id'].astype(str).str.len().max()\n",
    "tamanho_max_seller_id = df_items['order_id'].astype(str).str.len().max()\n",
    "\n",
    "tamanho_max_order_id = df_items['order_id'].astype(str).str.len().max()\n"
   ]
  },
  {
   "cell_type": "code",
   "execution_count": 52,
   "id": "88154ad9",
   "metadata": {},
   "outputs": [],
   "source": [
    "df_items.to_csv('itens_trusted.csv')\n",
    "df_refiews_final.to_csv('reviews_trusted.csv')\n",
    "df_orders.to_csv('order_trusted.csv')\n",
    "df_products.to_csv('products_trusted.csv')\n",
    "df_geolocation.to_csv('geolocation_trusted.csv')\n",
    "df_sellers.to_csv('sellers_trusted.csv')\n",
    "df_payments.to_csv('paymentas_trusted.csv')\n",
    "df_customers.to_csv('customers_trusted.csv')\n",
    "df_category.to_csv('category_trusted.csv')"
   ]
  },
  {
   "cell_type": "code",
   "execution_count": null,
   "id": "2f7b92cb",
   "metadata": {},
   "outputs": [],
   "source": [
    "df_items = pd.read_csv(var_path + 'olist_order_items_dataset.csv')\n",
    "df_reviews = pd.read_csv(var_path + 'olist_order_reviews_dataset.csv')\n",
    "df_orders = pd.read_csv(var_path + 'olist_orders_dataset.csv')\n",
    "df_products = pd.read_csv(var_path + 'olist_products_dataset.csv')\n",
    "df_geolocation = pd.read_csv(var_path + 'olist_geolocation_dataset.csv')\n",
    "df_sellers = pd.read_csv(var_path + 'olist_sellers_dataset.csv')\n",
    "df_payments = pd.read_csv(var_path + 'olist_order_payments_dataset.csv')\n",
    "df_customers = pd.read_csv(var_path + 'olist_customers_dataset.csv')\n",
    "df_category = pd.read_csv(var_path + 'product_category_name_translation.csv')"
   ]
  }
 ],
 "metadata": {
  "kernelspec": {
   "display_name": "Python 3",
   "language": "python",
   "name": "python3"
  },
  "language_info": {
   "codemirror_mode": {
    "name": "ipython",
    "version": 3
   },
   "file_extension": ".py",
   "mimetype": "text/x-python",
   "name": "python",
   "nbconvert_exporter": "python",
   "pygments_lexer": "ipython3",
   "version": "3.12.10"
  }
 },
 "nbformat": 4,
 "nbformat_minor": 5
}
