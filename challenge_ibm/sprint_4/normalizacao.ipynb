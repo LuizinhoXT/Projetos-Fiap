{
 "cells": [
  {
   "cell_type": "markdown",
   "id": "2a3feaab",
   "metadata": {},
   "source": [
    "# Normalização de Dados\n",
    "\n",
    "- Nesse Script os dados serão normalizados e re-escritos em uma zona do datalake chamada Trusted;\n",
    "- A normalização deve ser feita para todos os arquivos contidos;"
   ]
  },
  {
   "cell_type": "code",
   "execution_count": null,
   "id": "bf2c945a",
   "metadata": {},
   "outputs": [],
   "source": []
  }
 ],
 "metadata": {
  "language_info": {
   "name": "python"
  }
 },
 "nbformat": 4,
 "nbformat_minor": 5
}
